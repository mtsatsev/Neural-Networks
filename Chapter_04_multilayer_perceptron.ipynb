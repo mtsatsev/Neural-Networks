{
 "cells": [
  {
   "cell_type": "markdown",
   "metadata": {},
   "source": [
    "##### Author contributions\n",
    "Please fill out for each of the following parts who contributed to what:\n",
    "- Conceived ideas: \n",
    "- Performed math exercises: \n",
    "- Performed programming exercises:\n",
    "- Contributed to the overall final assignment: "
   ]
  },
  {
   "cell_type": "markdown",
   "metadata": {},
   "source": [
    "## Group 33"
   ]
  },
  {
   "cell_type": "markdown",
   "metadata": {},
   "source": [
    "# Chapter 4\n",
    "## Multilayer perceptron\n",
    "\n",
    "    Hand-in bug-free (try \"Kernel\" > \"Restart & Run All\") and including all (textual as well as figural) output via Brightspace before the deadline (see Brightspace).\n",
    "    \n",
    "Learning goals:\n",
    "1. Understand and implement a multi-layer perceptron (MLP) with two weight layers\n",
    "1. Derive and implement backpropagation\n",
    "1. Get familiar with the role of softmax units in classification"
   ]
  },
  {
   "cell_type": "markdown",
   "metadata": {},
   "source": [
    "### Notes on the architecture\n",
    "\n",
    "You are about to implement a multi-layer perceptron (MLP), using backpropagation to learn weights for classifying the 10 MNIST handwritten digits. The input, hidden, and output node layers are connected with two weight layers. The $n_h$ hidden layer nodes use sigmoid activations, and the 10 output layer nodes use softmax activations; learning the one-hot encoding / representation of the classes. "
   ]
  },
  {
   "cell_type": "markdown",
   "metadata": {},
   "source": [
    "### Exercise 1: Properties of activation functions (0.5 points)\n",
    "\n",
    "The activation functions we have discussed so far were nonlinear. This property is actually required for MLPs to work. Show with a simple mathematical proof that with a linear activation function $f(a) = b a$ (where b is some constant, e.g. $b=2.3$) the forward pass of a multilayer perceptron (MLP) with two weight layers can be written as the forward pass of a single layer perceptron (SLP), and hence could be done more efficiently by a neural network with a single weight layer. \n",
    "\n",
    "Hint: The forward pass of a neural network with the weight layers $W^1$ and $W^2$ is $y = g( W^2 h(W^1 x) )$. Here, both $g$ and $f$ are linear activation functions like $f$, but they can have any real valued scalar $b$ (e.g., $g(a)=1.8a$ and $h(a)=1.1a$)."
   ]
  },
  {
   "cell_type": "markdown",
   "metadata": {},
   "source": [
    "### Solution 1:\n",
    "The form of any linear function $f(x) = bx$ is given by multiplying the input by a constant\n",
    "\n",
    "For a two layer MLP given by $y^{[2]} = g(W^2 h(W^1 x ))$ we can re-write it as $y^{[2]} = g(W^2 h(a))$\n",
    "\n",
    "Where $h(a)$ is a linear activation function $h(a) = ba$ for some constanst b. and $g(a) = ca$ for some constant c. \n",
    "\n",
    "$$\\begin{equation}\n",
    "\\begin{split}\n",
    "y^{[2]} & = g(W^2 h(W^1 x ))\\\\\n",
    "y^{[2]} & = g(W^2 (b W^1 x))\\\\\n",
    "y^{[2]} & = c(W^2 (b W^1 x))\\\\\n",
    "y^{[2]} & = c(W^2 y^{[1]})\\\\\n",
    "\\end{split}\n",
    "\\end{equation}$$\n",
    "\n",
    "Therefor we can rewrite this for a single layer perceptron by multiplying the constants together and using it as one new constant because multiplication is commutative as:\n",
    "\n",
    "$$\\begin{equation}\n",
    "\\begin{split}\n",
    "y^{[1]} & = g(W x)\\\\\n",
    "y^{[1]} & = cb (W x)\\\\\n",
    "\\end{split}\n",
    "\\end{equation}$$.\n",
    "\n",
    "where $cb = b * c$ \n",
    "\n",
    "As an example take the values given here $h(a) = 1.1a, \\hspace{0.2cm} g(a) = 1.8a$ and check $g(h(a)) = 1.8 * (1.1*a)$ is the same as $1.98 a$"
   ]
  },
  {
   "cell_type": "markdown",
   "metadata": {},
   "source": [
    "### Exercise 2: Properties of weight initialization (0.5 points)\n",
    "\n",
    "Initialization of your network's parameters (e.g. weights) can have significant impact on the performance of your network. Consider the scenario where we initialize all parameters with the same constant value. Why would this prevent your network from learning anything sensible and be detrimental to your network's performance?"
   ]
  },
  {
   "cell_type": "markdown",
   "metadata": {},
   "source": [
    "### Solution 2\n",
    "During the forward pass of the network each unit in the next layer gets as input $a$ which is the ouput of the previous one:\n",
    "\n",
    "$a_i = \\sum_{i}^{N} W_{ij} * x_i$\n",
    "\n",
    "Now imagining the scenario as showed above with all the weights initialized to the same constant value. It means that all units in the next layer will be the same for subsequent iterations which makes training useless."
   ]
  },
  {
   "cell_type": "markdown",
   "metadata": {},
   "source": [
    "### Exercise 3: The sigmoid activation function (0.5 points)\n",
    "\n",
    "The hidden layer units apply the sigmoid function on their linear activations $a$: \n",
    "\n",
    "$$f(a) = \\frac{1}{1+\\exp(-a)}$$\n",
    "\n",
    "To compute backpropagation you will need its derivative again, and you have learned that the sigmoid function derivative has a very simple form. \n",
    "\n",
    "Express $\\frac{\\partial f(a)}{\\partial a} = \\frac{\\partial h}{\\partial a}$ in terms of this simple form, and expressed only by the hidden unit output $h$. "
   ]
  },
  {
   "cell_type": "markdown",
   "metadata": {},
   "source": [
    "$ h = \\frac{1}{1 + \\exp^{(-a)}}\\\\ a = W^1 x $\n",
    "\n",
    "$\\frac{\\partial f}{\\partial a} = f(a) * (1 - f(a)) $\n",
    "\n",
    "$$\n",
    "\\begin{equation}\n",
    "\\begin{split}\n",
    "\\frac{\\partial h}{\\partial a}\n",
    "&= \\frac{\\exp(-a)}{(1+\\exp(-a))^2}\\\\\\\\ \n",
    "&= \\frac{\\exp(-a)+1-1}{(1+\\exp(-a))^2}\\\\\\\\\n",
    "&= \\frac{1+\\exp(-a)}{(1+\\exp(-a))^2} + \\frac{-1}{(1+\\exp(-a))^2}\\\\\\\\\n",
    "&= \\frac{1}{1+\\exp(-a)} + \\frac{-1}{(1+\\exp(-a))^2}\\\\\\\\\n",
    "&= \\frac{1}{1+\\exp(-a)}(1-\\frac{1}{1+\\exp(-a)})\\\\\\\\\n",
    "& = h * (1 - h)\\\\\\\\\n",
    "& = f(a) * (1 - f(a))\n",
    "\\end{split}\n",
    "\\end{equation}$$\n",
    "\n",
    "\n",
    "\n",
    "$\\frac{\\partial f(a)}{\\partial a} = \\frac{\\partial h}{\\partial a} = f(a)(1-f(a))$"
   ]
  },
  {
   "cell_type": "markdown",
   "metadata": {},
   "source": [
    "### Bonus exercise: The softmax cross entropy loss (1 bonus point)\n",
    "\n",
    "Our MLP should do multi-class classification, i.e. be able to classify all 10 digits in MNIST, not just two. A single output unit with a sigmoid unit would be a 2-way output and would not work here. Instead we use as many output units as we have classes - for MNIST classification, the output is then a binary vector of length 10. Each output represents the probability for the associated class given a certain input. \n",
    "\n",
    "This means that in the training set the output unit (vector element) corresponding to the right class has the value 1 (probability 1), and all others are 0. This is a so-called *one-hot encoding* of class labels. Here, a good activation function is the *softmax* activation function, defined as: \n",
    "\n",
    "$$ y_k = p(z_k) = \\frac{\\exp(z_k)}{\\sum_{l=1}^K\\exp(z_l)} $$\n",
    "\n",
    "where $K$ represents the number of output units (= classes), and $z_k$ is the activation going into a single of these output units. With softmax, if you want to classify 10 digits, you define 10 output units and apply softmax over the output of each of them. Then the resulting 10 values will: \n",
    "* sum up to 1. \n",
    "* all be in the range $[0,1]$. \n",
    "\n",
    "These properties make it useful for getting the desired probability distribution as output. The output class predicted in the forward pass could then just be the one with the highest probability. \n",
    "\n",
    "For learning the right weights we again combine this activation function with the *cross-entropy cost function*: \n",
    "\n",
    "$$ L = - \\sum_{l=1}^K t_l \\lg (y_l) $$\n",
    "\n",
    "Note that if we would have 2 classes like in the previous assignment, we would have the same definition $L = -t \\log(y) - (1 - t)\\log(1 - y)$ again, as $t_2 = 1 - t_1$ and $y_2 = 1 - y_1$.\n",
    "\n",
    "\n",
    "Taking the derivative of the cross entropy loss $\\frac{\\partial L}{\\partial z_k}$ for the softmax and a single softmax input / activation $z_k$, we will get: \n",
    "\n",
    "$$ \\frac{\\partial L}{\\partial z_k} = \\frac{\\partial L}{\\partial y_k} \\frac{\\partial y_k}{\\partial z_k} = y_k - t_k$$\n",
    "\n",
    "\n",
    "**Bonus assignments (0.5 points each)**: \n",
    "1. Show how to derive the softmax activation function. You will need to show this for the two cases $i=j: \\frac{\\partial y_i}{\\partial z_i}$ and $i \\neq j: \\frac{\\partial y_i}{\\partial z_j}$. \n",
    "1. Use your result to derive the cross entropy loss for the softmax function $\\frac{\\partial L}{\\partial z_k}$. "
   ]
  },
  {
   "cell_type": "markdown",
   "metadata": {},
   "source": [
    "### Solution bonus exercise 1\n",
    "Derivative for softmax:\n",
    "1. For the case where j = i\n",
    "$$\n",
    "\\begin{equation}\n",
    "\\begin{split}\n",
    "\\frac{\\partial y_i}{\\partial z_i} & = \\frac{\\partial\\frac{\\exp^{z_i}}{\\sum^K_{l=1} \\exp^{z_i}}}{\\partial z_i} \\\\ \n",
    "&= \\frac{\\exp^{z_i} * \\sum^{K}_{l=1} \\exp^{z_l} - \\exp^{z_i} * \\exp^{z_i}}{(\\sum^{K}_{l=1} \\exp^{z_l})^2}\\\\\n",
    "&= \\frac{\\exp^{z_i}}{\\sum^{K}_{l=1} \\exp^{z_l}} \\frac{\\sum^{K}_{l=1} \\exp^{z_l} - \\exp^{z_i}}{\\sum^{K}_{l=1} \\exp^{z_l}}\\\\\n",
    "&= y_i (1 - y_i)\\\\\n",
    "\\end{split}\n",
    "\\end{equation}\n",
    "$$\n",
    "1. For the case where j $\\neq$ i \n",
    "$$\n",
    "\\begin{equation}\n",
    "\\begin{split}\n",
    "\\frac{\\partial y_i}{\\partial z_i} & = \\frac{\\partial\\frac{\\exp^{z_i}}{\\sum^K_{l=1} \\exp^{z_i}}}{\\partial z_i}\\\\\n",
    "&= \\frac{0 - \\exp^{z_j} * \\exp^{z_i}}{(\\sum^{K}_{l=1} \\exp^{z_l})^2}\\\\\n",
    "&= -\\frac{\\exp^{z_j}}{\\sum{K}_{l=1} \\exp^{z_l}} * \\frac{\\exp^{z_i}}{\\sum^{K}_{l=1} \\exp^{z_l}}\\\\\n",
    "&= -y_j * y_i\\\\\n",
    "&= y_i * (0 - y_j)\\\\\n",
    "&= -y_iy_j\n",
    "\\end{split}\n",
    "\\end{equation}\n",
    "$$\n",
    "\n",
    "In general \n",
    "\n",
    "$$\n",
    "\\frac{\\partial y_k}{z_k} = y_i (\\Delta - y_j)$$ where $$\\Delta = \\begin{cases} 1 \\text{ if } i = j\\\\ 0 \\text{ if } i \\neq j\\end{cases} $$"
   ]
  },
  {
   "cell_type": "markdown",
   "metadata": {},
   "source": [
    "### Solution bonus exercise 2\n",
    "\n",
    "$$\n",
    "\\begin{equation}\n",
    "\\begin{split}\n",
    "\\frac{\\partial L}{\\partial z_k} &= \\frac{\\partial L}{y_k} * \\frac{\\partial y_k}{\\partial z_k}\\\\\n",
    "&= \\frac{\\partial L}{y_k} * y_i (\\Delta - y_k)\\\\\n",
    "&= -(\\frac{\\partial L}{\\partial y_k} (t) - \\frac{\\partial L}{\\partial y_k}\\log{(y_k)}) * y_k (\\Delta - y_k)\\\\\n",
    "&= -(0 - \\frac{\\partial L}{\\partial y_k}\\log{(y_k)}) * y_k (\\Delta - y_k)\\\\\n",
    "&= -(- \\frac{1}{\\log(10)y_k}) * y_k (\\Delta - y_k)\\\\\n",
    "&= \\frac{1}{\\log(10)y_k} * y_k (\\Delta - y_k)\\\\\n",
    "&= \\frac{y_k (\\Delta - y_k)}{\\log(10)y_k}\\\\\n",
    "&= \\frac{y_k}{\\log(10)y_k} * \\Delta - y_k\\\\\n",
    "&= \\Delta - y_k\\\\\n",
    "&= t_k - y_k\n",
    "\\end{split}\n",
    "\\end{equation}\n",
    "$$\n",
    "\n",
    "So then $\\Delta = t_k$"
   ]
  },
  {
   "cell_type": "markdown",
   "metadata": {},
   "source": [
    "$$\n",
    "\\begin{equation}\n",
    "\\begin{split}\n",
    "\\frac{\\partial L}{\\partial z_k} &= \\frac{\\partial L}{\\partial y_k} * \\frac{\\partial y_k}{\\partial z_k}\\\\\n",
    "&= \\frac{\\partial L}{y_k} - t\\log(y_k) * \\frac{\\partial y_k}{\\partial z_k}\\\\\n",
    "&= - t_k \\frac{\\partial L}{\\partial y_k} \\log(y_k) * \\frac{\\partial y_k}{\\partial z_k}\\\\\n",
    "&= -t_k \\frac{1}{y_k} * y_i(\\Delta - y_k)\\\\\n",
    "&= \\frac{-t}{y_k} * y_k * (1 - y_k) -\\sum_{k \\neq i}^K\\frac{t_k}{y_k} * -y_iy_k\\\\\n",
    "&= \\frac{-t}{y_k} * (y_k - y_k^2) -\\sum_{k \\neq i}^K\\frac{t_k}{y_k} * -y_iy_k\\\\\n",
    "&= -t_k + t_ky_k + \\sum_{k \\neq i}^Kt_ky_i\\\\\n",
    "&= -t_k + \\sum_{k=1}^K\\\\\n",
    "&= -t_k + y_k * \\sum_{k}^K t_i\\\\\n",
    "&= -t_k + y_k \\\\\n",
    "&= y_k - t_k\n",
    "\\end{split}\n",
    "\\end{equation}\n",
    "$$\n",
    "\n",
    "Note the $\\sum$ magically appears when taking the kronecker $\\Delta$ to be 0 when i $\\neq$ j which are more than 1 cases since its not a binary output. "
   ]
  },
  {
   "cell_type": "markdown",
   "metadata": {},
   "source": [
    "### Exercise 4: The forward pass (1 point)\n",
    "\n",
    "The inputs of the network $x$ are MNIST images. In the forward pass a single training data example $x$ (a vector of size $m \\times 1$) is weighted by a first weight layer $W^1$ (size $n_h \\times m$). Then this activation $a$ is passed into the sigmoid activation function, producing the hidden layer activation $h$ (a vector of size $n_h \\times 1$). The hidden unit values $h$ are then weighted by a second layer of weights $W^2$ (size $10 \\times n_h$), producing the output unit activation $z$ (a vector of size $10 \\times 1$). Then, for each class $k$ there is an output unit with a softmax activation. \n",
    "\n",
    "Write down the equations for the activations $a$, $h$, $z$ and a single output unit $y_k$.\n",
    "\n",
    "Note that in the implementation you can easily compute all $y_k$ at once. "
   ]
  },
  {
   "cell_type": "markdown",
   "metadata": {},
   "source": [
    "### Solution 4\n",
    "\n",
    "\\begin{eqnarray*}\n",
    "a &=& W^1 * x \\\\\n",
    "h &=& \\frac{e^a}{e^a + 1} \\\\ \n",
    "z &=& W^2 * h\\\\\n",
    "y_k &=& \\frac{\\exp^{z_k}}{\\sum_{i=1}^{10} \\exp^{z_i}}  \\\\\n",
    "\\end{eqnarray*}"
   ]
  },
  {
   "cell_type": "markdown",
   "metadata": {},
   "source": [
    "### Exercise 5: Gradient of the last layer (1 point)\n",
    "\n",
    "To update the weights so to gradually let the network learn the classification, we need the partial derivatives of the weights. To compute the partial derivatives of the weights $W^2$ in the last layer, we have to propagate from the error function back through the softmax activation function to the weights. Obtain $\\frac{\\partial L}{\\partial W^2_{ij}}$ (i.e., $i$ is output, $j$ is input) by applying the chain rule multiple times. $L$ is the cross-entropy loss, and it receives the result of the $K$ softmax output units. \n",
    "\n",
    "Start with writing down the chain of partial derivatives, and then fill in the bits and pieces, to arrive at a trivial equation for this gradient.\n",
    "\n",
    "Notes:\n",
    "1. Here we derive the gradients for individual data examples. In the examples you will work with multiple examples at once. Basically, we sum all these gradients in order to do one big weight update. Think carefully how you can do this efficiently in your implementation.\n",
    "1. In the implementation you should obtain all weight updates (i.e., all $i$'s and $j$'s) at once with a single matrix multiplication. Think carefully whether this is a matrix multiplication (np.dot), or an element wise multiplication (*)."
   ]
  },
  {
   "cell_type": "markdown",
   "metadata": {},
   "source": [
    "### Solution 5:\n",
    "\n",
    "$$\n",
    "\\begin{equation}\n",
    "\\begin{split}\n",
    "\\frac{\\partial L}{\\partial W_{ij}^2} &= \\frac{\\partial L}{\\partial y_i} * \\frac{\\partial y_i}{\\partial z} * \\frac{\\partial z}{\\partial W_{ij}^2}\\\\\n",
    " &= \\delta^{[2]}_i * h_i\\\\\n",
    " &= (y_i - t_i) * h_i \\\\&= (y_i - t_i) * y_j\n",
    "\\end{split}\n",
    "\\end{equation}$$\n",
    "\n",
    "\n",
    "\n",
    "$\n",
    "\\begin{equation}\n",
    "\\begin{split}\n",
    "\\frac{\\partial z}{\\partial W_{i,j}^2} = h_i\n",
    "\\end{split}\n",
    "\\end{equation}\n",
    "$\n",
    "\n",
    "$\n",
    "\\begin{equation}\n",
    "\\begin{split}\n",
    "\\frac{\\partial y_j}{\\partial z} = y_j (\\Delta - y_j) \\text{ where } \\Delta = (0 | 1) \\text{ as shown in the bonus}\n",
    "\\end{split}\n",
    "\\end{equation}\n",
    "$"
   ]
  },
  {
   "cell_type": "markdown",
   "metadata": {},
   "source": [
    "### Exercise 6: Gradient of the first layer (1.5 points)\n",
    "\n",
    "To compute the partial derivatives of the weights $W^1$ in the first layer, we have to propagate from the error function back through the last layer into the first layer (i.e., apply backproagation).  In a similar vein as above, using a sequence of the chain rule, derive the chain of partial derivatives to compute $\\frac{\\partial L}{\\partial W^1_{ij}}$ (i.e., $i$ is output, $j$ is input).\n",
    "\n",
    "Start with writing down the chain of partial derivatives, and then fill in the bits and pieces, to arrive at a trivial equation for this gradient.\n",
    "\n",
    "Notes:\n",
    "1. Here we derive the gradients for individual data examples. In the examples you will work with multiple examples at once. Basically, we sum all these gradients in order to do one big weight update. Think carefully how you can do this efficiently in your implementation.\n",
    "1. In the implementation you should obtain all weight updates (i.e., all $i$'s and $j$'s) at once with a single matrix multiplication. Think carefully whether this is a matrix multiplication (np.dot), or an element wise multiplication (*)."
   ]
  },
  {
   "cell_type": "markdown",
   "metadata": {},
   "source": [
    "### Solution 6:\n",
    "$$\n",
    "\\frac{\\partial L}{\\partial W_{ij}^1} = \\frac{\\partial L}{\\partial y_i} \\frac{\\partial y_i}{\\partial z} \\frac{\\partial z}{\\partial h} \\frac{\\partial h}{\\partial a} \\frac{\\partial a}{\\partial W_{ij}^1} \\\n",
    "$$\n",
    "\n",
    "$\\frac{\\partial L}{\\partial y_i} \\frac{\\partial y_i}{\\partial z_j} = (y_i-t_i)$\n",
    "\n",
    "$\\frac{\\partial z_j}{\\partial h} = W^2$ \n",
    "\n",
    "$\\frac{\\partial h}{\\partial a} = h_i * (1 - h_i)$\n",
    "\n",
    "$\\frac{\\partial a}{\\partial W_{ij}^1} = x_j$ \n",
    "\n",
    "\n",
    "$$\\frac{\\partial L}{\\partial W_{ij}^1} = (y_i-t_i) W^2 (W^1  x_j) (1-(W^1  x_j))  x_j$$\n"
   ]
  },
  {
   "cell_type": "markdown",
   "metadata": {},
   "source": [
    "### Exercise 7: Implementation (3 points)\n",
    "Now that all the math is done, we can start implementing the two-layer network for binary classification of two digits, where we make use of sigmoid units and the cross-entropy loss. Write the following functions:\n",
    "1. `cross_entropy(Y, T)`: Computes the cross entropy loss, averaged over examples `N`. Make sure that there are no exact-zero inputs for `np.log()` (something simple like adding a very small number to `Y` is fine). Note that you sum $L$ over the classes `K` (check the `axis=` parameter of `np.sum`).\n",
    "1. `sigmoid(A)`: Passes the activity matrix `A` through the sigmoid activation function.\n",
    "1. `softmax(A)`: Passes the activity matrix `A` through the softmax activation function. Note that you can compute softmax in one literal line. You just need to sum the denominator over the right dimension. \n",
    "1. `linear(X, W)`: Computes the activities `A` as `X` weighted by `W`.\n",
    "1. `forward(X, W1, W2)`: Computes the forward pass for the two-layer network with sigmoid activations in the first and softmax activations in the second node layer. Returns `Y` and `H`. \n",
    "1. `backward(X, H, Y, W2, T)`: Computes the backward pass for the two-layer network with sigmoid units and cross-entropy loss.\n",
    "1. `train_network(X_train, T_train, X_val, T_val, n_epochs, eta)`: Implements the training procedure (train the model on training data, and evaluate on both training and validation data). See the skeleton code for some help. Use the fuction `initialize_weights(n_in, n_out)` to initialize your weights with the right shapes.\n",
    "1. `test_network(X, W)`: Predicts class labels for a set of `N` new and unseen training data examples, given as `X`. Interpret the output vector of length `10` as a set of probabilities for the class labels `0, 1, 2, 3, 4, 5, 6, 7, 8, 9` (Integer values). For each of the `N` output vectors, return the class label with the highest probability. \n",
    "\n",
    "Last time we initialized the weights from a Gaussian normal distribution. This time we initialize them by drawing uniformly from the rule of thumb range $ \\left [ - \\frac{ \\sqrt{6} }{ \\sqrt{n + m} },  \\frac{ \\sqrt{6} }{ \\sqrt{ n + m} } \\right ] $ ($n\\times m$ being the weight matrix dimensions), which  works better here. Weight initialization can have quite some influence on your results. "
   ]
  },
  {
   "cell_type": "markdown",
   "metadata": {},
   "source": [
    "### Solution 7"
   ]
  },
  {
   "cell_type": "code",
   "execution_count": 1,
   "metadata": {},
   "outputs": [],
   "source": [
    "%matplotlib inline\n",
    "import matplotlib.pyplot as plt\n",
    "import numpy as np\n",
    "import scipy.io as sio\n",
    "from sklearn.model_selection import train_test_split"
   ]
  },
  {
   "cell_type": "code",
   "execution_count": 2,
   "metadata": {},
   "outputs": [],
   "source": [
    "def initialize_weights(P, Q):\n",
    "    \"\"\"\n",
    "    Initializes a weight matrix.\n",
    "    INPUT:\n",
    "        P = [int] number of input units\n",
    "        Q = [int] number of output units\n",
    "    OUTPUTS\n",
    "        W = [Q P] the initial weight matrix of Q outputs by P inputs\n",
    "    \"\"\"\n",
    "    r = np.sqrt(6) / np.sqrt(Q + P)\n",
    "    return np.random.uniform(-r, r, [Q, P])"
   ]
  },
  {
   "cell_type": "code",
   "execution_count": 3,
   "metadata": {},
   "outputs": [],
   "source": [
    "def cross_entropy(Y, T):\n",
    "    \"\"\"\n",
    "    Computes the cross-entropy loss.\n",
    "    INPUT:\n",
    "        Y = [K N] output vector for N examples and K units (classes)\n",
    "        T = [K N] target vector for N examples and K units (classes)\n",
    "    OUTPUTS\n",
    "        L = [flt]  the mean cross-entropy loss\n",
    "    \"\"\"\n",
    "    L = (-1.0/Y.shape[1]) * np.sum(T * np.log(Y + 5e-324))\n",
    "    return L"
   ]
  },
  {
   "cell_type": "code",
   "execution_count": 4,
   "metadata": {},
   "outputs": [],
   "source": [
    "def softmax(Z):\n",
    "    \"\"\"\n",
    "    Computes the softmax activation function. \n",
    "    INPUT:\n",
    "        Z = [10 N] vector of input activations for 10 output units and N examples\n",
    "    OUTPUTS\n",
    "        Y = [10 N] the vectors of softmax activations for 10 output units and N examples\n",
    "    \"\"\"\n",
    "    Z -= np.max(Z, axis=0)  # for numerical stability\n",
    "    Y = np.exp(Z)/np.sum(np.exp(Z),axis=0)\n",
    "    return Y"
   ]
  },
  {
   "cell_type": "code",
   "execution_count": 5,
   "metadata": {},
   "outputs": [],
   "source": [
    "def sigmoid(A):\n",
    "    \"\"\"\n",
    "    Computes the sigmoid activation function.\n",
    "    INPUT:\n",
    "        A = [H N] activity matrix of H units for N examples\n",
    "    OUTPUT\n",
    "        Y = [H N] output matrix of H units for N examples\n",
    "    \"\"\"\n",
    "    Y = 1/(1 + np.exp(-A))\n",
    "    return Y"
   ]
  },
  {
   "cell_type": "code",
   "execution_count": 6,
   "metadata": {},
   "outputs": [],
   "source": [
    "def linear(X, W):\n",
    "    \"\"\"\n",
    "    Computes the activities for a fully connected layer.\n",
    "    INPUT:\n",
    "        X = [P N] data matrix of P input units for N examples\n",
    "        W = [Q P] weight matrix of P inputs to Q outputs\n",
    "    OUTPUT\n",
    "        A = [Q N] activity matrix of Q output units for N examples\n",
    "    \"\"\"\n",
    "    A = np.dot(W,X)\n",
    "    return A"
   ]
  },
  {
   "cell_type": "code",
   "execution_count": 7,
   "metadata": {},
   "outputs": [],
   "source": [
    "def forward(X, W1, W2):\n",
    "    \"\"\"\n",
    "    Computes the forward pass for a two-layer network with sigmoid units.\n",
    "    INPUT\n",
    "        X  = [P  N] data matrix of P inputs for N examples\n",
    "        W1 = [Q  P] weight matrix of the first layer of P inputs to Q outputs\n",
    "        W2 = [10 Q] weight vector of the second layer of Q inputs to 10 outputs\n",
    "    OUTPUT\n",
    "        H = [Q  N] output matrix of Q hidden units for N examples\n",
    "        Y = [10 N] output vector for N examples\n",
    "    \"\"\"\n",
    "    H = sigmoid(linear(X,W1))\n",
    "    Y = softmax(linear(H,W2))\n",
    "    return H, Y"
   ]
  },
  {
   "cell_type": "code",
   "execution_count": 8,
   "metadata": {},
   "outputs": [],
   "source": [
    "from numpy import dot"
   ]
  },
  {
   "cell_type": "code",
   "execution_count": 9,
   "metadata": {},
   "outputs": [],
   "source": [
    "def dSoftmax(Y):\n",
    "    Y_temp = []\n",
    "    for i in Y[:,]:\n",
    "        Y_temp.append(np.diag(i) - np.dot (i,i.T))\n",
    "    return np.array(Y_temp)\n",
    "    "
   ]
  },
  {
   "cell_type": "code",
   "execution_count": 10,
   "metadata": {},
   "outputs": [],
   "source": [
    "def backward(X, H, Y, W2, T):\n",
    "    \"\"\"\n",
    "    Computes the backward pass for a two-layer network with sigmoid and softmax units, and cross-entropy loss.  \n",
    "    INPUT:\n",
    "        X  = [P  N] data matrix of P inputs for N examples\n",
    "        H  = [Q  N] output matrix of Q hidden units for N examples\n",
    "        Y  = [10 N] output probability vectors for N examples\n",
    "        W2 = [10 Q] weight vector of the second layer of Q inputs to 10 outputs\n",
    "        T  = [10 N] a vector of one-hot encoded targets for N examples\n",
    "    OUTPUT\n",
    "        dW1 = [Q  P] gradient matrix for the weights of layer 1 of P inputs to Q outputs\n",
    "        dW2 = [10 Q] gradient matrix for the weights of layer 2 of Q inputs to 10 outputs\n",
    "    \"\"\"\n",
    "   \n",
    "    dW2 = ((Y - T) * (Y *(1 -Y))).dot(H.transpose())\n",
    "    dW1 = (dot((Y-T).transpose(),W2).transpose() * (H * (1 - H))).dot(X.transpose())\n",
    "    return dW1, dW2"
   ]
  },
  {
   "cell_type": "markdown",
   "metadata": {},
   "source": [
    "Even though it goes against what is computed on the derivatives without ```(Y * (1 - Y)``` It just does not work despite the fact that the loss for the out layer already takes the kronecker delta into account so ```(Y - T)``` should already be sufficient."
   ]
  },
  {
   "cell_type": "code",
   "execution_count": 11,
   "metadata": {},
   "outputs": [],
   "source": [
    "def train_network(X_train, T_train, X_val, T_val, n_hidden=30, n_epochs=500, eta=10**-3):\n",
    "    \"\"\"\n",
    "    Performs the training procedure for a two-layer network with sigmoid and softmax units, and cross-entropy loss. \n",
    "    INPUT:\n",
    "        X_train  = [P  N] data matrix of P inputs for N training examples\n",
    "        T_train  = [10 N] a vector of targets for N training examples\n",
    "        X_val    = [P  M] data matrix of P inputs for M validation examples\n",
    "        T_val    = [10 M] a vector of targets for M validation examples\n",
    "        n_hidden = [int]  number of hidden units (default 30)\n",
    "        n_epochs = [int]  number of training epochs (default 500)\n",
    "        eta      = [flt]  learning rate (default 10^-3)\n",
    "    OUTPUT:\n",
    "        W1         = [Q  P] the learned weights for layer 1 of P inputs to Q outputs\n",
    "        W2         = [10 Q] the learned weights for layer 2 of Q inputs to 10 outputs\n",
    "        train_loss = [Z  1] the training loss for Z epochs\n",
    "        val_loss   = [Z  1] the validation loss for Z epochs\n",
    "    \"\"\"\n",
    "    \n",
    "    # Initialize W1 and W2 (use initialize_weights())\n",
    "    ## Code here ##\n",
    "    W1 = initialize_weights(X_train.shape[0],n_hidden)\n",
    "    W2 = initialize_weights(n_hidden,10)\n",
    "    \n",
    "    # Loop over epochs\n",
    "    train_loss = np.zeros((n_epochs))\n",
    "    val_loss = np.zeros((n_epochs))\n",
    "    for i_epoch in range(n_epochs):\n",
    "        \n",
    "        # Forward pass\n",
    "        ## Code here ##\n",
    "        H_train,Y_train = forward(X_train, W1,W2)\n",
    "        H_val, Y_val   = forward(X_val,W1,W2)\n",
    "\n",
    "        # Backward pass\n",
    "        ## Code here ##\n",
    "        dW1,dW2 = backward(X_train, H_train, Y_train,W2,T_train)\n",
    "        \n",
    "        # Parameter update\n",
    "        ## Code here ##\n",
    "        W1 = W1 - (eta * dW1) \n",
    "        W2 = W2 - (eta * dW2)\n",
    "        # Save loss\n",
    "        ## Code here ##             \n",
    "        train_loss[i_epoch] = cross_entropy(Y_train,T_train)\n",
    "        val_loss[i_epoch]   = cross_entropy(Y_val,T_val)\n",
    "        \n",
    "        # Print progress and loss\n",
    "        if i_epoch % 100 == 0:\n",
    "            print(\"Epoch {}/{}. Train loss: {:.3f}. Validation loss: {:.3f}.\".format(\n",
    "                1+i_epoch, n_epochs, train_loss[i_epoch], val_loss[i_epoch]))\n",
    "        \n",
    "    return W1, W2, train_loss, val_loss"
   ]
  },
  {
   "cell_type": "code",
   "execution_count": 12,
   "metadata": {},
   "outputs": [],
   "source": [
    "def test_network(X, W1, W2):\n",
    "    \"\"\"\n",
    "    Applies the trained two-layer network with sigmoid units to data.\n",
    "    INPUT:\n",
    "        X  = [P  N] data matrix of P inputs for N examples\n",
    "        W1 = [Q  P] weight matrix of the first layer of P inputs to Q outputs\n",
    "        W2 = [10 Q] weight vector of the second layer of Q inputs to 10 outputs\n",
    "    OUTPUT\n",
    "        classes = [1 N] predicted integer labels from 0 to 9 for N examples\n",
    "    \"\"\"\n",
    "    A1 = linear(X,W1)\n",
    "    A2 = linear(A1,W2)\n",
    "    classes = np.array([])\n",
    "    for a in A2.T:\n",
    "        classes = np.append(classes,np.argmax(softmax(a))) \n",
    "    \n",
    "    return classes"
   ]
  },
  {
   "cell_type": "markdown",
   "metadata": {},
   "source": [
    "### Loading the data\n",
    "Below we first load in (a subset of) the MNIST handwritten digit dataset, and restrict it to two digits. We plot some examples. We split this data into a training and a test set. "
   ]
  },
  {
   "cell_type": "code",
   "execution_count": 13,
   "metadata": {},
   "outputs": [],
   "source": [
    "# Read full dataset from mat file\n",
    "mat = sio.loadmat(\"digits.mat\")\n",
    "\n",
    "# The data set contains 1000 examples of each class in sequence - create the corresponding label vector: \n",
    "T = np.array([0, 1, 2, 3, 4, 5, 6, 7, 8, 9]).repeat(1000)\n",
    "\n",
    "# The 1000 examples of the 0-class are currently at the end of the data set. \n",
    "# Move them to the beginning. Then we can use np.argmax to get from one-hot encoded class probabilites to\n",
    "# the original class label: \n",
    "X = np.roll(mat[\"digits\"], shift=1000, axis=1)\n",
    "\n",
    "sz = (28, 28)"
   ]
  },
  {
   "cell_type": "code",
   "execution_count": 14,
   "metadata": {},
   "outputs": [
    {
     "data": {
      "image/png": "[encoded data removed]",
      "text/plain": [
       "<Figure size 1080x504 with 10 Axes>"
      ]
     },
     "metadata": {
      "needs_background": "light"
     },
     "output_type": "display_data"
    }
   ],
   "source": [
    "# Plot some examples\n",
    "fig, ax = plt.subplots(1, 10)\n",
    "fig.set_size_inches([15, 7])\n",
    "for i in range(10):\n",
    "    ax[i].imshow(X[:, 0 + i*1000].reshape(sz).T, cmap=\"gray\")\n",
    "    ax[i].set_axis_off()"
   ]
  },
  {
   "cell_type": "code",
   "execution_count": 15,
   "metadata": {},
   "outputs": [
    {
     "name": "stdout",
     "output_type": "stream",
     "text": [
      "Dimensions training inputs: (784, 6400), and training outputs: (10, 6400)\n",
      "Dimensions validation inputs: (784, 1600), and validation outputs: (10, 1600)\n",
      "Dimensions testing inputs: (784, 2000), and testing outputs: (2000,)\n"
     ]
    }
   ],
   "source": [
    "# Split dataset in training, validation, and testing split\n",
    "X_train, X_test, T_train, T_test = train_test_split(X.T, T, test_size=0.2)\n",
    "X_train, X_val, T_train, T_val = train_test_split(X_train, T_train, test_size=0.2)\n",
    "\n",
    "# Transpose back\n",
    "X_train = X_train.T\n",
    "X_val = X_val.T\n",
    "X_test = X_test.T\n",
    "\n",
    "# Transform the label sets used in training to one-hot vectors: \n",
    "T_train = np.eye(10)[T_train].T\n",
    "T_val = np.eye(10)[T_val].T\n",
    "\n",
    "# Print dimensions\n",
    "print(\"Dimensions training inputs: {}, and training outputs: {}\".format(X_train.shape, T_train.shape))\n",
    "print(\"Dimensions validation inputs: {}, and validation outputs: {}\".format(X_val.shape, T_val.shape))\n",
    "print(\"Dimensions testing inputs: {}, and testing outputs: {}\".format(X_test.shape, T_test.shape))"
   ]
  },
  {
   "cell_type": "markdown",
   "metadata": {},
   "source": [
    "### Exercise 8: Training (1 point)\n",
    "Now that we have done all the work, we can finally run the multilayer perceptron to learn classifying digits. \n",
    "\n",
    "1. Train your network on the training dataset `X_train` and `T_train`, and validate it at each epoch on the test set `X_val` and `T_val`. Use de default values for the number of hidden units, learning rate, and number of epochs.\n",
    "1. After training, plot the train and validation losses over epochs (as returned by `train_network()`."
   ]
  },
  {
   "cell_type": "markdown",
   "metadata": {},
   "source": [
    "### Solution 8"
   ]
  },
  {
   "cell_type": "code",
   "execution_count": 16,
   "metadata": {},
   "outputs": [
    {
     "name": "stdout",
     "output_type": "stream",
     "text": [
      "Epoch 1/500. Train loss: 2.372. Validation loss: 2.387.\n",
      "Epoch 101/500. Train loss: 0.265. Validation loss: 0.349.\n",
      "Epoch 201/500. Train loss: 0.173. Validation loss: 0.307.\n",
      "Epoch 301/500. Train loss: 0.126. Validation loss: 0.294.\n",
      "Epoch 401/500. Train loss: 0.097. Validation loss: 0.290.\n"
     ]
    },
    {
     "data": {
      "image/png": "[encoded data removed]",
      "text/plain": [
       "<Figure size 432x288 with 1 Axes>"
      ]
     },
     "metadata": {
      "needs_background": "light"
     },
     "output_type": "display_data"
    }
   ],
   "source": [
    "# Train network\n",
    "## Code here ##\n",
    "W1, W2, train_loss, val_loss = train_network(X_train, T_train, X_val, T_val)\n",
    "\n",
    "\n",
    "# Plot losses\n",
    "plt.plot(train_loss,label=\"train loss\")\n",
    "plt.plot(val_loss,label = \"validation loss\")\n",
    "plt.legend(loc=\"upper right\")\n",
    "plt.xlabel(\"epochs\")\n",
    "plt.ylabel(\"loss\")\n",
    "plt.title(\"Validation and Training loss\")\n",
    "plt.show()"
   ]
  },
  {
   "cell_type": "markdown",
   "metadata": {},
   "source": [
    "### Exercise 9: Testing (1 point)\n",
    "Now that the network is trained, we can obtain a test score on a held out test set, and compute a classification performance. Apply your network to the test set `X_test` and `T_test`, and print its accuracy. \n",
    "\n",
    "If everything went fine, the accuracy should be above 90%, which is fine as we only use 1/6 of the original MNIST data set."
   ]
  },
  {
   "cell_type": "markdown",
   "metadata": {},
   "source": [
    "For some reason for me the accuracy ranges between (83-87)%. Could that be a result of the fact that i could not properly derive softmax ? Or perhaps it is just bad luck with the sampling of the data ?"
   ]
  },
  {
   "cell_type": "markdown",
   "metadata": {},
   "source": [
    "### Solution 9"
   ]
  },
  {
   "cell_type": "markdown",
   "metadata": {},
   "source": [
    "### Question \n",
    "If the base of the log can be used to determine the number of outcomes for example $\\log_2()$ is for binary classification and the $\\textbf{Bonus exercise}$ said that for this case the log is actually $\\lg$ then why did we use ```np.log()``` and not ```np.log10()```  in ```cross_entropy(Y,T)```?"
   ]
  },
  {
   "cell_type": "code",
   "execution_count": 17,
   "metadata": {},
   "outputs": [
    {
     "name": "stdout",
     "output_type": "stream",
     "text": [
      "Accuracy of the network: 0.8555\n",
      "Accuracy with respect to the train loss: 0.9225947293878265, and validation loss: 0.7104853094661625\n"
     ]
    }
   ],
   "source": [
    "# Test network\n",
    "predictions = test_network(X_test,W1,W2)\n",
    "\n",
    "# Print accuracy\n",
    "tp = 0\n",
    "for i in range(T_test.shape[0]):\n",
    "    if predictions[i] == T_test[i]:\n",
    "        tp +=1\n",
    "        \n",
    "accuracy = tp/T_test.shape[0]\n",
    "acclossT = 1 - train_loss[-1]\n",
    "acclossV = 1 - val_loss[-1]\n",
    "print(\"Accuracy of the network: {}\".format(accuracy))\n",
    "print(\"Accuracy with respect to the train loss: {}, and validation loss: {}\".format(acclossT,acclossV))"
   ]
  },
  {
   "cell_type": "markdown",
   "metadata": {},
   "source": [
    "### What has the network learned?\n",
    "\n",
    "What has the MLP learned to be able to classify the digits with relatively high accuracy? We can easily inspect a part of the network, that is the weights coming directly after the input nodes (i.e. the first layer weights) to check which patterns the MLP deemed important for correct classification at this stage (for higher layers this inspection is more complicated, and an active research field). \n",
    "\n",
    "For this we just need to reshape the first layer weights leading from all input values to a hidden unit to $28 \\times 28$. We do this separately for each hidden unit to check what each of them represents or detects. These patterns act a bit like *receptive fields*.\n",
    "\n",
    "When you have trained the full network, just run the code in the next cell to check the learned pattern detectors in the first layer. "
   ]
  },
  {
   "cell_type": "code",
   "execution_count": 18,
   "metadata": {},
   "outputs": [
    {
     "data": {
      "image/png": "[encoded data removed]",
      "text/plain": [
       "<Figure size 576x720 with 30 Axes>"
      ]
     },
     "metadata": {
      "needs_background": "light"
     },
     "output_type": "display_data"
    }
   ],
   "source": [
    "n_hidden = W1.shape[0]\n",
    "\n",
    "plt.figure(figsize=([8,10]))\n",
    "for i in range(n_hidden):    \n",
    "    plt.subplot(5,6,i+1)\n",
    "    fig = plt.imshow(W1[i, :].reshape([28,28]).T, cmap='gray')\n",
    "    fig.axes.get_xaxis().set_visible(False)\n",
    "    fig.axes.get_yaxis().set_visible(False)"
   ]
  },
  {
   "cell_type": "code",
   "execution_count": null,
   "metadata": {},
   "outputs": [],
   "source": []
  }
 ],
 "metadata": {
  "anaconda-cloud": {},
  "kernelspec": {
   "display_name": "Python 3",
   "language": "python",
   "name": "python3"
  },
  "language_info": {
   "codemirror_mode": {
    "name": "ipython",
    "version": 3
   },
   "file_extension": ".py",
   "mimetype": "text/x-python",
   "name": "python",
   "nbconvert_exporter": "python",
   "pygments_lexer": "ipython3",
   "version": "3.7.3"
  }
 },
 "nbformat": 4,
 "nbformat_minor": 2
}
