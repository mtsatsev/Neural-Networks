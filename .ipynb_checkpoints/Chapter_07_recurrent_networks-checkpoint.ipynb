{
 "cells": [
  {
   "cell_type": "markdown",
   "metadata": {},
   "source": [
    "##### Author contributions\n",
    "Please fill out for each of the following parts who contributed to what:\n",
    "- Conceived ideas: \n",
    "- Performed math exercises: \n",
    "- Performed programming exercises:\n",
    "- Contributed to the overall final assignment: "
   ]
  },
  {
   "cell_type": "markdown",
   "metadata": {},
   "source": [
    "# Chapter 7\n",
    "## Recurrent neural networks\n",
    "\n",
    "\n",
    "    Hand-in bug-free (try \"Kernel\" > \"Restart & Run All\") and including all (textual as well as figural) output via Brightspace before the deadline (see Brightspace).\n",
    "\n",
    "Learning goals:\n",
    "1. Get familiar with recurrent hidden units\n",
    "1. Implement a simple RNN (Elman network) in PyTorch\n",
    "1. Implement an LSTM-based neural network in PyTorch"
   ]
  },
  {
   "cell_type": "code",
   "execution_count": 1,
   "metadata": {},
   "outputs": [],
   "source": [
    "%matplotlib inline\n",
    "import matplotlib.pyplot as plt\n",
    "import numpy as np\n",
    "import torch\n",
    "import torch.nn as nn\n",
    "import torch.nn.functional as F\n",
    "import torch.optim as optim\n",
    "import torchvision\n",
    "import torchvision.transforms as transforms"
   ]
  },
  {
   "cell_type": "code",
   "execution_count": 2,
   "metadata": {},
   "outputs": [],
   "source": [
    "device = torch.device('cuda' if torch.cuda.is_available() else 'cpu')"
   ]
  },
  {
   "cell_type": "markdown",
   "metadata": {},
   "source": [
    "### Exercise 1  (1 point)"
   ]
  },
  {
   "cell_type": "markdown",
   "metadata": {},
   "source": [
    "Consider a recurrent neural network with one input unit $x$, one sigmoid recurrent hidden unit $h$, and one linear output unit $y$. The values of $x$ are given for 3 time points in `x_t`. As this is a very small RNN, $W^i$, $W^h$ and $W^o$ are given as the scalar values `w_i`, `w_h` and `w_o` respectively. The hidden unit has an added bias `h_bias`. The hidden unit state is initialized with `0.0`. The only 'value-manipulating' activation function in this network is the sigmoid activation $\\sigma(\\cdot)$ on the hidden unit. \n",
    "\n",
    "1. Write down the forward pass of this network for a specific time point $t$. \n",
    "1. What is the value of the hidden state $h$ after processing the last input `x_t[2]`? \n",
    "1. What is the output `y` of the network after processing the last input `x_t[2]`? \n",
    "\n",
    "$$\n",
    "\\large{\n",
    "\\begin{eqnarray*}\n",
    "h_t &=& \\sigma( W^i x_t + W^h h_{t-1}) + bias \\\\\n",
    "y_t &=& W^o h(t) + bias\\\\\n",
    "\\end{eqnarray*}\n",
    "}\n",
    "$$\n",
    "\n",
    "For 1.2 and 1.3, you can either compute the solution by hand (show clearly how you arrived there, 3 decimal points) or write code to find the answer. "
   ]
  },
  {
   "cell_type": "code",
   "execution_count": 3,
   "metadata": {},
   "outputs": [],
   "source": [
    "# inputs over times 0, 1, 2:\n",
    "x_t = [9.0, 4.0, -2.0]\n",
    "\n",
    "# weights and bias terms: \n",
    "w_i = 0.5\n",
    "w_h = -1.0\n",
    "w_o = -0.7\n",
    "h_bias = -1.0\n",
    "y_bias = 0.0"
   ]
  },
  {
   "cell_type": "markdown",
   "metadata": {},
   "source": [
    "### Solution 1"
   ]
  },
  {
   "cell_type": "code",
   "execution_count": 4,
   "metadata": {},
   "outputs": [],
   "source": [
    "import math\n",
    "def sig(x):\n",
    "    return 1/(1 + math.exp(-x))"
   ]
  },
  {
   "cell_type": "code",
   "execution_count": 5,
   "metadata": {},
   "outputs": [
    {
     "name": "stdout",
     "output_type": "stream",
     "text": [
      "-0.7072252802268861\n",
      "0.4950576961588203\n"
     ]
    }
   ],
   "source": [
    "h_0 = sig(w_i * x_t[0]) + h_bias\n",
    "h_1 = sig((w_i * x_t[1]) + (w_h * h_0)) + h_bias\n",
    "h_2 = sig((w_i * x_t[2]) + (w_h * h_1)) + h_bias\n",
    "\n",
    "y_2 = w_o * h_2 + y_bias\n",
    "print(h_2)\n",
    "print(y_2)"
   ]
  },
  {
   "cell_type": "markdown",
   "metadata": {},
   "source": [
    "### Code introduction\n",
    "\n",
    "We will apply two recurrent neural networks to learn a dynamic variant of the *adding problem*. First, run the next cell and inspect the output. \n",
    "\n",
    "There is a stream of inputs to the network, two at each time step. The first input unit will receive a series of decimal numbers in the interval $[-1,1]$. The second input unit will receive the numbers $0$, $-1$, or $1$. The target is the sum of the preceding two decimal numbers that came together with the number $1$ (called the marker, `x` in the generated output), and it should be produced whenever a marker has been seen. In the beginning until two of these markers have been seen, the output will stay 0. \n",
    "\n",
    "\n",
    "Below you will find two functions: \n",
    "1. `create_addition_data`: Generates sequential training data sets `X` and `T` for the dynamic *adding problem*, returns numpy array.\n",
    "1. `MyDataset`: a custom PyTorch dataset that makes sure dimensions are as PyTorch likes them, and can return individual samples the way PyTorch wants them.\n",
    "\n",
    "Note, the data are represented in a dictionary called `data`. To access the training, validation, and testing data, you can call `data[\"train\"]`, `data[\"valid]`, and `data[\"test\"]` respectively."
   ]
  },
  {
   "cell_type": "code",
   "execution_count": 6,
   "metadata": {},
   "outputs": [],
   "source": [
    "def create_addition_data(n_samples=3000):\n",
    "    # This is a dynamic variant of the adding problem. \n",
    "    \n",
    "    # Random numbers in [-1.0,1.0]): \n",
    "    X1 = np.random.uniform(low=-1.0, high=1.0, size=(n_samples,) )   \n",
    "    \n",
    "    # Random markers [-1.0, 0.0, 1.0] (1.0 marks the numbers that should be added):\n",
    "    X2 = np.random.choice([-1.0, 0.0, 1.0], size=(n_samples,), p=[0.25, 0.25, 0.5])\n",
    "    \n",
    "    # Combine\n",
    "    X = np.vstack((X1, X2)).T.astype(\"float32\")\n",
    "\n",
    "    # Create targets\n",
    "    T = np.zeros((n_samples, 1)).astype(\"float32\")\n",
    "\n",
    "    # Get indices of 1.0\n",
    "    markers = np.nonzero(X2 == 1.0)[0]\n",
    "    \n",
    "    # Generate data\n",
    "    mem = X1[markers[0]]\n",
    "    for mi, marker in enumerate(markers[1:]):\n",
    "        T[marker] = mem + X1[marker]\n",
    "        mem = X1[marker]\n",
    "                \n",
    "    return X, T"
   ]
  },
  {
   "cell_type": "code",
   "execution_count": 7,
   "metadata": {
    "scrolled": true
   },
   "outputs": [
    {
     "name": "stdout",
     "output_type": "stream",
     "text": [
      "Data for the adding problem (x marks 1.0):\n",
      "Time: 000 \t x: (+0.908 ,  ) \t t: +0.000 \n",
      "Time: 001 \t x: (-0.753 , x) \t t: +0.000 \n",
      "Time: 002 \t x: (+0.973 ,  ) \t t: +0.000 \n",
      "Time: 003 \t x: (-0.811 , x) \t t: -1.565 \n",
      "Time: 004 \t x: (-0.863 ,  ) \t t: +0.000 \n",
      "Time: 005 \t x: (-0.261 , x) \t t: -1.072 \n",
      "Time: 006 \t x: (+0.571 , x) \t t: +0.310 \n",
      "Time: 007 \t x: (-0.708 , x) \t t: -0.137 \n",
      "Time: 008 \t x: (-0.696 ,  ) \t t: +0.000 \n",
      "Time: 009 \t x: (-0.628 ,  ) \t t: +0.000 \n",
      "Time: 010 \t x: (+0.694 ,  ) \t t: +0.000 \n",
      "Time: 011 \t x: (-0.117 ,  ) \t t: +0.000 \n",
      "Time: 012 \t x: (+0.028 ,  ) \t t: +0.000 \n",
      "Time: 013 \t x: (-0.125 , x) \t t: -0.833 \n",
      "Time: 014 \t x: (+0.107 , x) \t t: -0.018 \n",
      "Time: 015 \t x: (-0.777 ,  ) \t t: +0.000 \n",
      "Time: 016 \t x: (+0.985 , x) \t t: +1.092 \n",
      "Time: 017 \t x: (+0.812 ,  ) \t t: +0.000 \n",
      "Time: 018 \t x: (+0.878 , x) \t t: +1.863 \n",
      "Time: 019 \t x: (+0.421 , x) \t t: +1.299 \n",
      "Time: 020 \t x: (+0.777 , x) \t t: +1.198 \n",
      "Time: 021 \t x: (-0.841 , x) \t t: -0.065 \n",
      "Time: 022 \t x: (-0.694 , x) \t t: -1.535 \n",
      "Time: 023 \t x: (+0.595 ,  ) \t t: +0.000 \n",
      "Time: 024 \t x: (+0.107 ,  ) \t t: +0.000 \n",
      "Time: 025 \t x: (+0.088 , x) \t t: -0.606 \n",
      "Time: 026 \t x: (+0.548 , x) \t t: +0.637 \n",
      "Time: 027 \t x: (+0.766 ,  ) \t t: +0.000 \n",
      "Time: 028 \t x: (-0.822 ,  ) \t t: +0.000 \n",
      "Time: 029 \t x: (+0.388 , x) \t t: +0.936 \n",
      "Time: 030 \t x: (-0.373 , x) \t t: +0.015 \n",
      "Time: 031 \t x: (+0.660 ,  ) \t t: +0.000 \n",
      "Time: 032 \t x: (-0.911 , x) \t t: -1.283 \n",
      "Time: 033 \t x: (+0.719 , x) \t t: -0.192 \n",
      "Time: 034 \t x: (+0.717 , x) \t t: +1.435 \n",
      "Time: 035 \t x: (+0.218 , x) \t t: +0.935 \n",
      "Time: 036 \t x: (+0.099 , x) \t t: +0.317 \n",
      "Time: 037 \t x: (-0.558 ,  ) \t t: +0.000 \n",
      "Time: 038 \t x: (-0.852 , x) \t t: -0.753 \n",
      "Time: 039 \t x: (+0.957 , x) \t t: +0.105 \n",
      "Time: 040 \t x: (+0.480 , x) \t t: +1.436 \n",
      "Time: 041 \t x: (+0.666 , x) \t t: +1.146 \n",
      "Time: 042 \t x: (+0.342 , x) \t t: +1.008 \n",
      "Time: 043 \t x: (+0.610 , x) \t t: +0.952 \n",
      "Time: 044 \t x: (-0.681 ,  ) \t t: +0.000 \n",
      "Time: 045 \t x: (-0.145 , x) \t t: +0.465 \n",
      "Time: 046 \t x: (-0.966 , x) \t t: -1.111 \n",
      "Time: 047 \t x: (+0.894 , x) \t t: -0.072 \n",
      "Time: 048 \t x: (-0.284 , x) \t t: +0.610 \n",
      "Time: 049 \t x: (-0.607 ,  ) \t t: +0.000 \n",
      "Time: 050 \t x: (-0.991 , x) \t t: -1.275 \n",
      "Time: 051 \t x: (+0.131 , x) \t t: -0.860 \n",
      "Time: 052 \t x: (+0.376 ,  ) \t t: +0.000 \n",
      "Time: 053 \t x: (-0.374 , x) \t t: -0.243 \n",
      "Time: 054 \t x: (-0.962 ,  ) \t t: +0.000 \n",
      "Time: 055 \t x: (+0.860 , x) \t t: +0.486 \n",
      "Time: 056 \t x: (-0.767 ,  ) \t t: +0.000 \n",
      "Time: 057 \t x: (+0.089 , x) \t t: +0.949 \n",
      "Time: 058 \t x: (+0.611 ,  ) \t t: +0.000 \n",
      "Time: 059 \t x: (-0.934 , x) \t t: -0.845 \n",
      "Time: 060 \t x: (+0.649 ,  ) \t t: +0.000 \n",
      "Time: 061 \t x: (+0.562 , x) \t t: -0.371 \n",
      "Time: 062 \t x: (-0.389 , x) \t t: +0.173 \n",
      "Time: 063 \t x: (+0.348 ,  ) \t t: +0.000 \n",
      "Time: 064 \t x: (-0.087 , x) \t t: -0.476 \n",
      "Time: 065 \t x: (+0.238 ,  ) \t t: +0.000 \n",
      "Time: 066 \t x: (-0.182 ,  ) \t t: +0.000 \n",
      "Time: 067 \t x: (-0.802 ,  ) \t t: +0.000 \n",
      "Time: 068 \t x: (+0.569 , x) \t t: +0.482 \n",
      "Time: 069 \t x: (-0.798 , x) \t t: -0.228 \n",
      "Time: 070 \t x: (+0.128 , x) \t t: -0.670 \n",
      "Time: 071 \t x: (-0.969 , x) \t t: -0.841 \n",
      "Time: 072 \t x: (+0.168 ,  ) \t t: +0.000 \n",
      "Time: 073 \t x: (+0.547 , x) \t t: -0.423 \n",
      "Time: 074 \t x: (+0.366 , x) \t t: +0.912 \n",
      "Time: 075 \t x: (-0.334 ,  ) \t t: +0.000 \n",
      "Time: 076 \t x: (-0.635 ,  ) \t t: +0.000 \n",
      "Time: 077 \t x: (-0.799 ,  ) \t t: +0.000 \n",
      "Time: 078 \t x: (-0.263 , x) \t t: +0.103 \n",
      "Time: 079 \t x: (+0.089 , x) \t t: -0.174 \n",
      "Time: 080 \t x: (+0.109 ,  ) \t t: +0.000 \n",
      "Time: 081 \t x: (-0.352 ,  ) \t t: +0.000 \n",
      "Time: 082 \t x: (+0.385 , x) \t t: +0.474 \n",
      "Time: 083 \t x: (-0.896 , x) \t t: -0.511 \n",
      "Time: 084 \t x: (+0.411 ,  ) \t t: +0.000 \n",
      "Time: 085 \t x: (-0.585 ,  ) \t t: +0.000 \n",
      "Time: 086 \t x: (-0.276 ,  ) \t t: +0.000 \n",
      "Time: 087 \t x: (-0.509 , x) \t t: -1.405 \n",
      "Time: 088 \t x: (-0.977 , x) \t t: -1.486 \n",
      "Time: 089 \t x: (-0.038 ,  ) \t t: +0.000 \n",
      "Time: 090 \t x: (-0.211 , x) \t t: -1.188 \n",
      "Time: 091 \t x: (+0.632 ,  ) \t t: +0.000 \n",
      "Time: 092 \t x: (-0.597 , x) \t t: -0.809 \n",
      "Time: 093 \t x: (-0.682 ,  ) \t t: +0.000 \n",
      "Time: 094 \t x: (-0.014 ,  ) \t t: +0.000 \n",
      "Time: 095 \t x: (-0.078 , x) \t t: -0.675 \n",
      "Time: 096 \t x: (-0.987 ,  ) \t t: +0.000 \n",
      "Time: 097 \t x: (+0.911 , x) \t t: +0.833 \n",
      "Time: 098 \t x: (-0.077 , x) \t t: +0.834 \n",
      "Time: 099 \t x: (+0.909 ,  ) \t t: +0.000 \n"
     ]
    }
   ],
   "source": [
    "# Long as the markers x are sparse\n",
    "X, T = create_addition_data(n_samples=100)\n",
    "# Print some data\n",
    "print(\"Data for the adding problem (x marks 1.0):\")\n",
    "for t in range(X.shape[0]):\n",
    "    print(\"Time: {:03d} \\t x: ({:+.3f} , {}) \\t t: {:+.3f} \".format(\n",
    "        t, X[t,0], 'x' if X[t,1] == 1.0 else ' ', T[t,0]))"
   ]
  },
  {
   "cell_type": "code",
   "execution_count": 8,
   "metadata": {},
   "outputs": [],
   "source": [
    "# Make PyTorch dataset\n",
    "class MyDataset(torch.utils.data.Dataset):\n",
    "    \n",
    "    def __init__(self, X, T):\n",
    "        self.X = torch.from_numpy(X).type(torch.FloatTensor) # [n_examples, n_samples, n_features]\n",
    "        self.T = torch.from_numpy(T).type(torch.FloatTensor) # [n_examples, n_samples]\n",
    "        \n",
    "    def __getitem__(self, index):\n",
    "        return self.X[index, :, :], self.T[index]\n",
    "    \n",
    "    def __len__(self):\n",
    "        return self.X.size()[0]"
   ]
  },
  {
   "cell_type": "code",
   "execution_count": 9,
   "metadata": {},
   "outputs": [],
   "source": [
    "n_examples = 9\n",
    "n_samples = 3000\n",
    "data = {}\n",
    "\n",
    "# Define training data\n",
    "X = np.zeros((n_examples, n_samples, 2))\n",
    "T = np.zeros((n_examples, n_samples, 1))\n",
    "for i_example in range(n_examples):\n",
    "    X[i_example, :, :], T[i_example, :] = create_addition_data(n_samples)\n",
    "data[\"train\"] = torch.utils.data.DataLoader(MyDataset(X, T), batch_size=3)\n",
    "\n",
    "# Define validation data\n",
    "X = np.zeros((n_examples, n_samples, 2))\n",
    "T = np.zeros((n_examples, n_samples, 1))\n",
    "for i_example in range(n_examples):\n",
    "    X[i_example, :, :], T[i_example, :] = create_addition_data(n_samples)\n",
    "data[\"valid\"] = torch.utils.data.DataLoader(MyDataset(X, T), batch_size=3)\n",
    "\n",
    "# Define test data\n",
    "X = np.zeros((n_examples, n_samples, 2))\n",
    "T = np.zeros((n_examples, n_samples, 1))\n",
    "for i_example in range(n_examples):\n",
    "    X[i_example, :, :], T[i_example, :] = create_addition_data(n_samples)\n",
    "data[\"test\"] = torch.utils.data.DataLoader(MyDataset(X, T), batch_size=1)"
   ]
  },
  {
   "cell_type": "markdown",
   "metadata": {},
   "source": [
    "### Exercise 2: training a network  (0.5 points)\n",
    "\n",
    "We neede a function to train a `model`. This function `train_model(model, data, optimizer, criterion, n_epochs)` should do the following: \n",
    "\n",
    "1. Loop `n_epochs` times over the dataset, and loop over minibatches\n",
    "1. Train the model on the training data and save the loss per epoch\n",
    "1. Validate the model on the validation data and save the loss per epoch\n",
    "1. The function should return the trained model and the losses\n",
    "\n",
    "Note: this function is quite similar again as the function your wrote wor the MLP and CNN. The only difference is that we do not need to compute an accuracy, as we are performing regression here."
   ]
  },
  {
   "cell_type": "markdown",
   "metadata": {},
   "source": [
    "### Solution 2"
   ]
  },
  {
   "cell_type": "code",
   "execution_count": 10,
   "metadata": {},
   "outputs": [
    {
     "name": "stdout",
     "output_type": "stream",
     "text": [
      "tensor([-0.3464,  0.0000])\n",
      "tensor([0.1376, 1.0000])\n",
      "tensor([0.8733])\n"
     ]
    }
   ],
   "source": [
    "for x,(i) in data[\"train\"]:\n",
    "    print(x[1][4])\n",
    "    print(x[1][5])\n",
    "    print(i[1][5])\n",
    "    break\n",
    "    #print(i)"
   ]
  },
  {
   "cell_type": "code",
   "execution_count": 11,
   "metadata": {},
   "outputs": [
    {
     "name": "stdout",
     "output_type": "stream",
     "text": [
      "tensor([0.6455, 1.0000])\n",
      "tensor([0.2604, 0.0000])\n",
      "tensor([0.9978, 1.0000])\n",
      "tensor([1.6433])\n"
     ]
    }
   ],
   "source": [
    "for x, i in data[\"test\"]:\n",
    "    print(x[0][249])\n",
    "    print(x[0][250])\n",
    "    print(x[0][251])\n",
    "    print(i[0][251])\n",
    "    break"
   ]
  },
  {
   "cell_type": "code",
   "execution_count": 12,
   "metadata": {},
   "outputs": [],
   "source": [
    "def train_model(model,data,optimizer,criterion,n_epochs):\n",
    "    train_loss = np.zeros(n_epochs)\n",
    "    valid_loss = np.zeros(n_epochs)\n",
    "    \n",
    "    loss_train = []\n",
    "    loss_valid = []\n",
    "    for epoch in range(n_epochs):\n",
    "        \n",
    "        for index,(t,i) in enumerate(data[\"train\"]):\n",
    "            t = t.to(device)\n",
    "            i = i.to(device)\n",
    "\n",
    "            optimizer.zero_grad()\n",
    "            output = model.forward(t)\n",
    "            loss   = criterion(output,i)\n",
    "            loss.backward()\n",
    "            optimizer.step()\n",
    "            \n",
    "            loss_train.append(loss.item())\n",
    "        \n",
    "        train_loss[epoch] = np.mean(loss_train)\n",
    "        with torch.no_grad():\n",
    "            for t,i in data[\"valid\"]:\n",
    "                t = t.to(device)\n",
    "                i = i.to(device)\n",
    "                \n",
    "                outputs = model(t)\n",
    "                loss    = criterion(outputs,i)\n",
    "                \n",
    "                loss_valid.append(loss.item())\n",
    "                \n",
    "            valid_loss[epoch] = np.mean(loss_valid)\n",
    "        if epoch % 10 == 0:\n",
    "            print(\"epoch: [{},{}], train loss: {:.4f}, valid loss {:.4f}\"\n",
    "              .format(epoch+1,n_epochs,train_loss[epoch],valid_loss[epoch]))\n",
    "    return model,train_loss,valid_loss"
   ]
  },
  {
   "cell_type": "markdown",
   "metadata": {},
   "source": [
    "### Exercise 3: Testing a network  (1.5 points)\n",
    "\n",
    "We neede a function to test a trained `model`. This function `test_model(model, data)` should do the following: \n",
    "\n",
    "1. Let `model` predict outputs on the testing data. For this, iterate through test data `data[\"test]` and pass each sample through `model`. \n",
    "1. Save the model output as well as the target output\n",
    "1. The function should return the predicted and target outputs"
   ]
  },
  {
   "cell_type": "markdown",
   "metadata": {},
   "source": [
    "### Solution 3"
   ]
  },
  {
   "cell_type": "code",
   "execution_count": 13,
   "metadata": {},
   "outputs": [],
   "source": [
    "def test_model(model,data):\n",
    "    with torch.no_grad():\n",
    "        output = []\n",
    "        target = []\n",
    "        for (t,i) in data[\"test\"]:\n",
    "            t = t.to(device)\n",
    "            i = i.to(device)\n",
    "        \n",
    "            predict = model(t)\n",
    "            output.append(predict[0][:].detach())\n",
    "            target.append(i[0][:])\n",
    "    return output, target\n",
    "        "
   ]
  },
  {
   "cell_type": "markdown",
   "metadata": {},
   "source": [
    "### Exercise 4: Simple RNN  (3 points)\n",
    "\n",
    "We first implement a simple recurrent architecture (a simple [Elman network](http://mnemstudio.org/neural-networks-elman.htm)). \n",
    "\n",
    "1. First implement the linear layers `l1` and `l2`. They should lead from `n_input` input units over `n_hidden` hidden units to `n_out` output units.\n",
    "1. Add a recurrent linear weight layer `hr`. These are weights that self-connect to the hidden units. The input will be the values of the `n_hidden` hidden units, and they should project back to the `n_hidden` hidden units. \n",
    "1. A forward pass will update the hidden state with the inputs and the recurrent layer weights, and produce the output from the hidden unit. Specifically you should do the following: \n",
    "    2. If we are at the first time point, the hidden state should be set to the input passed through `l1` and `tanh` activations.\n",
    "    2. If the hidden state has information from previous time points: a) Pass the input through `l1`. b) Pass the hidden state through the recurrent weight layer `hr`. c) The sum of a) and b) should be passed through the `tanh` activation. d) The result should be the new hidden state (used for the next time point).\n",
    "    2. Finally pass the hidden state through layer `l2`. This produces the output `y` for that time point.\n",
    "1. The forward pass will receive data `x` with shape [batch_size, time_points, features]. So within the forward pass, you will have to loop over time points, performing the steps as descibed above. The output of the forward pass is then output `y` with shape [batch_size, time_points, 1].\n",
    "\n",
    "Note: this exercise could also be done with nn.RNN(). However, we want you to understand what a RNN is doing, so we want you to use nn.Linear instead."
   ]
  },
  {
   "cell_type": "markdown",
   "metadata": {},
   "source": [
    "### Solution 4"
   ]
  },
  {
   "cell_type": "markdown",
   "metadata": {},
   "source": [
    "$h_t = \\text{tanh}(W_{ih} x_t + b_{ih} + W_{hh} h_{(t-1)} + b_{hh})$"
   ]
  },
  {
   "cell_type": "code",
   "execution_count": 14,
   "metadata": {},
   "outputs": [],
   "source": [
    "## Code here ##\n",
    "class RecNN(nn.Module):\n",
    "    def __init__(self, n_input,n_hidden,n_out):\n",
    "        super(RecNN, self).__init__()\n",
    "        self.l1 = nn.Linear(n_input,n_hidden)\n",
    "        self.l2 = nn.Linear(n_hidden,n_out)\n",
    "        self.hr = nn.Linear(n_hidden,n_hidden)\n",
    "        self.hidd = self.hidden = torch.tensor([0. for i in range(n_hidden)])\n",
    "        self.tanh = nn.Tanh()\n",
    "        \n",
    "        self.use_gpu= True\n",
    "        \n",
    "    def forward(self,x):\n",
    "        self.hidden = self.tanh(self.l1(x))\n",
    "        for i in range(x.size()[1]):\n",
    "            out = self.l1(x)\n",
    "            hs = self.hr(self.hidden)\n",
    "            self.hidden = self.tanh(out + hs)\n",
    "            y  = self.l2(hs)\n",
    "        return y\n",
    "        \n"
   ]
  },
  {
   "cell_type": "markdown",
   "metadata": {},
   "source": [
    "### Exercise 5: Setup and run (1 point)\n",
    "\n",
    "Try your simple `RNN` with the dynamic addition task. \n",
    "\n",
    "1. Define the model. `RNN` should have **2 hidden units**.\n",
    "1. Define the loss as the Mean Squared Error loss, and use an Adam optimizer.\n",
    "1. Train your model for several epochs on the data with `train_model`.\n",
    "1. Plot the train and validation losses. \n",
    "1. Test the trained model with `test_model` \n",
    "1. Plot at least one target time series together with the predicted time series\n",
    "\n",
    "Based on the losses and predictions, what would your conclusion be? Did the simple RNN learn the task? "
   ]
  },
  {
   "cell_type": "code",
   "execution_count": 15,
   "metadata": {},
   "outputs": [],
   "source": [
    "model = RecNN(2,2,1)\n",
    "loss = nn.MSELoss()\n",
    "optimizer = torch.optim.Adam(model.parameters(),lr=0.001)"
   ]
  },
  {
   "cell_type": "markdown",
   "metadata": {},
   "source": [
    "### Solution 5"
   ]
  },
  {
   "cell_type": "code",
   "execution_count": null,
   "metadata": {},
   "outputs": [
    {
     "name": "stdout",
     "output_type": "stream",
     "text": [
      "epoch: [1,50], train loss: 0.3521, valid loss 0.3506\n"
     ]
    }
   ],
   "source": [
    "model,train_loss,valid_loss = train_model(model,data,optimizer,loss,50)"
   ]
  },
  {
   "cell_type": "code",
   "execution_count": null,
   "metadata": {},
   "outputs": [],
   "source": [
    "print(train_loss.shape)\n",
    "print(valid_loss.shape)"
   ]
  },
  {
   "cell_type": "code",
   "execution_count": null,
   "metadata": {},
   "outputs": [],
   "source": [
    "epoch_plot = np.arange(50)\n",
    "\n",
    "plt.plot(epoch_plot,train_loss,valid_loss)\n",
    "plt.title(\"Train and Validation loss\")\n",
    "plt.xlabel(\"Epochs\")\n",
    "plt.ylabel(\"Loss\")\n",
    "plt.legend([\"Train loss\",\"Validation loss\"])\n",
    "\n",
    "\n",
    "plt.show()"
   ]
  },
  {
   "cell_type": "code",
   "execution_count": null,
   "metadata": {
    "scrolled": true
   },
   "outputs": [],
   "source": [
    "predicted, target = test_model(model,data)"
   ]
  },
  {
   "cell_type": "code",
   "execution_count": null,
   "metadata": {},
   "outputs": [],
   "source": [
    "for i in predicted:\n",
    "    print(i.size())"
   ]
  },
  {
   "cell_type": "code",
   "execution_count": null,
   "metadata": {},
   "outputs": [],
   "source": [
    "plt.scatter(predicted[1],target[1],s=1)\n",
    "plt.scatter(target[1],target[1],s=1)\n",
    "plt.title(\"Results from the test\")\n",
    "plt.show()"
   ]
  },
  {
   "cell_type": "code",
   "execution_count": null,
   "metadata": {},
   "outputs": [],
   "source": [
    "import pandas as pd\n",
    "plt.plot(target[0],color='orange')\n",
    "plt.plot(predicted[0],color=\"blue\")\n",
    "\n",
    "plt.show()"
   ]
  },
  {
   "cell_type": "code",
   "execution_count": null,
   "metadata": {},
   "outputs": [],
   "source": [
    "plt.scatter(predicted[1],target[1])\n",
    "plt.title(\"Results from the test\")\n",
    "plt.show()"
   ]
  },
  {
   "cell_type": "markdown",
   "metadata": {},
   "source": [
    "### Exercise 6: LSTM RNN (2 points)\n",
    "\n",
    "Long-Short Term Memory (LSTM) units have more [powerful functionality](http://colah.github.io/posts/2015-08-Understanding-LSTMs/), such as selective forgetting, and they are able to keep track of long-term dependencies. This might be useful for the adding task. \n",
    "\n",
    "Implement the `LSTM` model:\n",
    "\n",
    "1. `lstm` should be an `LSTM` layer leading from the `n_input` inputs to the `n_hidden` hidden units.\n",
    "1. `fc` should be a fully-connected (linear) layer leading from the hidden units (output of `lstm`) to the `n_out` output units. \n",
    "1. The network does not make use of further activation functions. "
   ]
  },
  {
   "cell_type": "markdown",
   "metadata": {},
   "source": [
    "### Solution 6"
   ]
  },
  {
   "cell_type": "code",
   "execution_count": null,
   "metadata": {},
   "outputs": [],
   "source": [
    "class LSTM(nn.Module):\n",
    "    def __init__(n_input,n_hidden,n_out):\n",
    "        super(LSTM,self).__init__()\n",
    "        self.lstm = nn.LSTM(n_input,n_hidden)\n",
    "        self.fc   = nn.Linear(n_hidden,n_out)\n",
    "    \n",
    "        self.use_gpu = True\n",
    "        \n",
    "    def forward(self,x):\n",
    "        h0 = torch.zeros(1, x.shape[0], 2)\n",
    "        c0 = torch.zeros(1, x.shape[2], 2)\n",
    "        out= x.view(len(x[0]), x.shape[0], -1)\n",
    "        \n",
    "        \n",
    "        "
   ]
  },
  {
   "cell_type": "markdown",
   "metadata": {
    "collapsed": true
   },
   "source": [
    "### Exercise 7: Setup and run (1 point)\n",
    "\n",
    "Try your `LSTM` model with the dynamic addition task. \n",
    "\n",
    "1. Define the model. `LSTM` should have **2 hidden units**.\n",
    "1. Define the loss as the Mean Squared Error loss, and use an Adam optimizer.\n",
    "1. Train your model for several epochs on the data with `train_model`.\n",
    "1. Plot the train and validation losses. \n",
    "1. Test the trained model with `test_model` \n",
    "1. Plot at least one target time series together with the predicted time series\n",
    "\n",
    "Did the LSTM network capture the task better? Did any of the two capture the task perfectly? Or are the two networks on par? "
   ]
  },
  {
   "cell_type": "markdown",
   "metadata": {},
   "source": [
    "### Solution 7"
   ]
  },
  {
   "cell_type": "code",
   "execution_count": null,
   "metadata": {},
   "outputs": [],
   "source": [
    "## Code here ##"
   ]
  },
  {
   "cell_type": "code",
   "execution_count": null,
   "metadata": {},
   "outputs": [],
   "source": [
    "time = list(range(0, 3000))\n",
    "plt.scatter(time, predicted[4],s=5)\n",
    "plt.scatter(time, target[4],s=5)\n",
    "plt.title(\"Target- and predicted time series\")\n",
    "plt.xlabel(\"Time\")\n",
    "plt.ylabel(\"\")\n",
    "plt.legend(['predicted', 'target'])\n",
    "plt.show()"
   ]
  },
  {
   "cell_type": "code",
   "execution_count": null,
   "metadata": {},
   "outputs": [],
   "source": [
    "def test_model(model, data):\n",
    "    output = []\n",
    "    target = []\n",
    "    for x,t in data[\"test\"]:\n",
    "        y = model(x)\n",
    "        output.append(y)\n",
    "        target.append(t)\n",
    "    \n",
    "    return output, target"
   ]
  }
 ],
 "metadata": {
  "anaconda-cloud": {},
  "kernelspec": {
   "display_name": "Python 3",
   "language": "python",
   "name": "python3"
  },
  "language_info": {
   "codemirror_mode": {
    "name": "ipython",
    "version": 3
   },
   "file_extension": ".py",
   "mimetype": "text/x-python",
   "name": "python",
   "nbconvert_exporter": "python",
   "pygments_lexer": "ipython3",
   "version": "3.7.3"
  }
 },
 "nbformat": 4,
 "nbformat_minor": 1
}
