{
 "cells": [
  {
   "cell_type": "markdown",
   "metadata": {},
   "source": [
    "##### Author contributions\n",
    "Please fill out for each of the following parts who contributed to what:\n",
    "- Conceived ideas: \n",
    "- Performed math exercises: \n",
    "- Performed programming exercises:\n",
    "- Contributed to the overall final assignment: "
   ]
  },
  {
   "cell_type": "markdown",
   "metadata": {},
   "source": [
    "# Chapter 8\n",
    "## Hopfield networks\n",
    "\n",
    "    Hand-in bug-free (try \"Kernel\" > \"Restart & Run All\") and including all (textual as well as figural) output via Brightspace before the deadline (see Brightspace).\n",
    "\n",
    "Learning goals:\n",
    "1. Get familiar with energy functions and with updating Hopfield networks by hand\n",
    "1. Implement a Hopfield network that fulfills a constraint\n",
    "1. Implement, train and test a Hopfield network on images"
   ]
  },
  {
   "cell_type": "code",
   "execution_count": 1,
   "metadata": {},
   "outputs": [],
   "source": [
    "%matplotlib inline\n",
    "import matplotlib.pyplot as plt\n",
    "import matplotlib.image as mpimg\n",
    "import numpy as np\n",
    "import urllib\n",
    "import skimage as ski\n",
    "from random import randint"
   ]
  },
  {
   "cell_type": "markdown",
   "metadata": {},
   "source": [
    "### Exercise 1: Flip-flop  (2 points)\n",
    "Consider a Hopfield network consisting of two binary variables $x_1$ and $x_2$ with biases $\\theta_1 = 0.5$ and $\\theta_2 = 0.5$, and weights $w_{ij} = -1$. This network implements a so-called flip-flop. \n",
    "1. What is the energy function of this network? *(Write down the standard form of $E(\\mathbf{x})$, insert the values and simplify it.)*\n",
    "1. What are the possible energy levels of this network? *(Given the possible state combinations for $x_1$ and $x_2$ in a Hopfield network, which values can $E(\\mathbf{x})$ have?)*\n",
    "1. What are the stable states of this network?"
   ]
  },
  {
   "cell_type": "markdown",
   "metadata": {},
   "source": [
    "### Solution 1\n",
    "1. $$\n",
    "\\begin{align}\n",
    "E(x) &= -\\frac{1}{2}\\sum_{i,j} w_{i,j}x_ix_j - \\sum_{i}\\theta_i x_i\\\\\n",
    "&= -\\frac{1}{2}(-1 * x_1 x_2 + -1x_2 x_1 ) - (0.5 x_1 + 0.5 x_2)\\\\\n",
    "&= -\\frac{1}{2}(-x_1x_2 - x_2x_1) - \\frac{1}{2} (x_1x_2)\\\\\n",
    "&= -\\frac{1}{2}(-2x_1x_2) - \\frac{1}{2} (x_1x_2)\\\\\n",
    "&= x_1x_2 - \\frac{1}{2} x_1x_2\n",
    "\\end{align}$$\n",
    "1. Answer here.\n",
    "1. Depending on the initial state of the nodes either active or not there are a few possibilities.\n",
    "    * If $x_1$ and $x_2$ are both active then the stable state depends on the order of updating them but 1 of them will become inactive and that would be the end. \n",
    "    * If $x_1$ is active but $x_2$ is not active then they are already in stable state. Note that $x_1$ and $x_2$ can be changed since they are symetrical. \n",
    "    * Else if $x_1$ and $x_2$ are inactive at the start then one of them will become active and that would be the stable state. Again, which one depends on the order of updating and again, it does not really matter."
   ]
  },
  {
   "cell_type": "markdown",
   "metadata": {},
   "source": [
    "### Exercise 2: Hopfield net\n",
    "Consider a Hopfield network with weights\n",
    "\\begin{equation}\n",
    "\\mathbf{W} =\n",
    "\\left[\n",
    "\\begin{array}{llll}\n",
    "0 & -0.2 & -0.4 & 0\\\\\n",
    "-0.2 & 0 & 0.5 & 0.3\\\\\n",
    "-0.4 & 0.5 & 0 & 0.8\\\\\n",
    "0 & 0.3 & 0.8 & 0\n",
    "\\end{array}\n",
    "\\right]\n",
    "\\end{equation}\n",
    "and biases\n",
    "$\\boldsymbol{\\theta} = (-0.5,-0.3,-0.8,0.2)$.\n",
    "1. What is the state of the Hopfield network after one sequential update of the first, second, third and fourth node when we start at the initial node state $\\mathbf{x} = (0,1,1,1)$? \n",
    "1. What do you conclude from your observation?"
   ]
  },
  {
   "cell_type": "code",
   "execution_count": 2,
   "metadata": {},
   "outputs": [],
   "source": [
    "%load_ext tikzmagic"
   ]
  },
  {
   "cell_type": "markdown",
   "metadata": {},
   "source": [
    "### Solution 2  (1 point)\n",
    "1. $$\\begin{align}\n",
    "    x_1 &= (1 * (-0.2)) + (1 * 0) + (1 * (-0.4)) + (-0.5) = -0.9 &\\text{0}\\\\\n",
    "    x_2 &= (0 * (-0.2)) + (1 * 0.5) + (1 * 0.5) + (-0.3) = 0.7 &\\text{1}\\\\\n",
    "    x_3 &= (0 * (-0.4)) + (1 * 0.5) + (1 * 0.8) + 0.8 = 2.1 &\\text{1}\\\\\n",
    "    x_4 &= (0 * 0) + (1 * 0.5) + (1 * 0.8) + 0.2 = 1.5 &\\text{1}\n",
    "    \\end{align}\n",
    "$$ $\\mathbf{x} = (0,1,1,1)$\n",
    "1. It was already in a stable state."
   ]
  },
  {
   "cell_type": "markdown",
   "metadata": {},
   "source": [
    "### Exercise 3 : A Hopfield network that fulfills a constraint (2 points)\n",
    "\n",
    "In this exercise you will run a Hopfield model that converges to a state that fulfills a constraint. \n",
    "\n",
    "1. Implement a function `optimize(n)` which returns a length `n` vector of node states. The constraint it should solve is that all nodes should be set to `0`, except for a single random node set to `1`.\n",
    "1. Show that your function works for different values of `n`.\n",
    "\n",
    "Start from random node states. Choose and implement the necessary weights and biases manually (i.e. you do not train the Hopfield network here). The resulting vector should be the configuration of the network when it has converged to a stable state. Make sure that your implementation fulfills all requirements for Hopfield networks to converge to stable states."
   ]
  },
  {
   "cell_type": "markdown",
   "metadata": {},
   "source": [
    "### Solution 3"
   ]
  },
  {
   "cell_type": "code",
   "execution_count": 3,
   "metadata": {},
   "outputs": [],
   "source": [
    "# The optimization function\n",
    "def check(n):\n",
    "    check = 0 \n",
    "    for i in range(n.shape[0]):\n",
    "        check += n[i]\n",
    "    return check == 1\n",
    "\n",
    "def optimize(n):\n",
    "    vec = np.zeros(n)\n",
    "    index = randint(0,n-1)\n",
    "    vec[index] = 1\n",
    "    return vec"
   ]
  },
  {
   "cell_type": "code",
   "execution_count": 4,
   "metadata": {},
   "outputs": [
    {
     "name": "stdout",
     "output_type": "stream",
     "text": [
      "array [0. 0. 1. 0. 0. 0. 0. 0. 0. 0.] result True\n",
      "\n",
      "array [0. 0. 1. 0. 0. 0. 0. 0. 0. 0. 0.] result True\n",
      "\n",
      "array [0. 0. 0. 0. 0. 0. 0. 0. 1. 0. 0. 0.] result True\n",
      "\n",
      "array [0. 0. 0. 0. 0. 0. 0. 0. 1. 0. 0. 0. 0.] result True\n",
      "\n",
      "array [0. 0. 0. 0. 1. 0. 0. 0. 0. 0. 0. 0. 0. 0.] result True\n",
      "\n",
      "array [0. 0. 0. 0. 0. 0. 0. 0. 1. 0. 0. 0. 0. 0. 0.] result True\n",
      "\n",
      "array [0. 0. 0. 0. 0. 0. 0. 1. 0. 0. 0. 0. 0. 0. 0. 0.] result True\n",
      "\n",
      "array [0. 0. 0. 0. 0. 0. 0. 0. 0. 0. 0. 0. 1. 0. 0. 0. 0.] result True\n",
      "\n",
      "array [0. 0. 0. 0. 0. 0. 0. 0. 0. 0. 0. 0. 0. 0. 0. 0. 0. 1.] result True\n",
      "\n",
      "array [0. 0. 0. 0. 0. 0. 0. 0. 0. 0. 0. 0. 0. 0. 0. 1. 0. 0. 0.] result True\n",
      "\n"
     ]
    }
   ],
   "source": [
    "# Print solutions\n",
    "for i in range(10,20,1):\n",
    "    x = optimize(i)\n",
    "    print(\"array {} result {}\\n\".format(x,check(x)))"
   ]
  },
  {
   "cell_type": "markdown",
   "metadata": {},
   "source": [
    "### Training a Hopfield network on given patterns\n",
    "\n",
    "You will now implement a Hopfield network that learns to reconstruct given images. Here you can *a) ignore the bias term*; and *b) use bipolar nodes*. \n",
    "\n",
    "The next cells load an image, resize it and store it together with a mirrored version of the same image in the variables `x1` and `x2`, which will be stacked in the training data `X`. These are your *input patterns*. "
   ]
  },
  {
   "cell_type": "code",
   "execution_count": 5,
   "metadata": {},
   "outputs": [],
   "source": [
    "# The source image\n",
    "f = urllib.request.urlopen(\"https://homepages.cae.wisc.edu/~ece533/images/watch.png\")\n",
    "\n",
    "# Read the image\n",
    "x1 = mpimg.imread(f)\n",
    "x1 = ski.transform.resize(x1, (76, 102), mode=\"reflect\", anti_aliasing=True)\n",
    "\n",
    "# Make 2D and bipolar\n",
    "x1 = np.mean(x1, axis=2)\n",
    "x1[x1 < np.mean(x1.flatten())] = -1 # Black\n",
    "x1[x1 >= np.mean(x1.flatten())] = 1 # White\n",
    "x1.astype(\"int32\")\n",
    "\n",
    "# Make duplicate but mirrored second image\n",
    "x2 = np.fliplr(x1)\n",
    "\n",
    "# Flatten images\n",
    "sz = x1.shape\n",
    "X = np.stack((x1.flatten(), x2.flatten()), axis=1)"
   ]
  },
  {
   "cell_type": "code",
   "execution_count": 6,
   "metadata": {},
   "outputs": [
    {
     "data": {
      "text/plain": [
       "Text(0.5, 1.0, 'x2')"
      ]
     },
     "execution_count": 6,
     "metadata": {},
     "output_type": "execute_result"
    },
    {
     "data": {
      "image/png": "[encoded data removed]",
      "text/plain": [
       "<Figure size 720x360 with 2 Axes>"
      ]
     },
     "metadata": {},
     "output_type": "display_data"
    }
   ],
   "source": [
    "fig, ax = plt.subplots(1, 2, figsize=(10, 5))\n",
    "\n",
    "ax[0].imshow(X[:, 0].reshape(sz), cmap=\"gray\")\n",
    "ax[0].set_xticks([], [])\n",
    "ax[0].set_yticks([], [])\n",
    "ax[0].set_title(\"x1\")\n",
    "\n",
    "ax[1].imshow(X[:, 1].reshape(sz), cmap=\"gray\")\n",
    "ax[1].set_xticks([], [])\n",
    "ax[1].set_yticks([], [])\n",
    "ax[1].set_title(\"x2\")"
   ]
  },
  {
   "cell_type": "markdown",
   "metadata": {},
   "source": [
    "### Exercise 4: Hopfield training  (1 point)\n",
    "Write a function `hopfield_train(X)` which takes the $n$ *input patterns* `X` (shape $(m,n)$) as argument and returns the weight matrix `w` for a trained Hopfield network with $m$ nodes. Initialize the weights with zeros and then implement the learning rule for the weights. Again, make sure that your network fulfills the requirements for Hopfield network convergence. \n",
    "\n",
    "Note that you can write the weight update term per *input pattern* in a single line using the dot product. "
   ]
  },
  {
   "cell_type": "markdown",
   "metadata": {},
   "source": [
    "### Solution 4"
   ]
  },
  {
   "cell_type": "code",
   "execution_count": 7,
   "metadata": {},
   "outputs": [],
   "source": [
    "# Hopfield training\n",
    "def hopfield_train(X):\n",
    "    m, n = X.shape\n",
    "\n",
    "    # Initialize weights\n",
    "    w = np.zeros([m,m])\n",
    "    \n",
    "    # Hebbian learning\n",
    "    w = w + np.dot(X,X.transpose()) \n",
    "    \n",
    "    # Avoid self-connections (diagonal)\n",
    "    np.fill_diagonal(w,0)\n",
    "    \n",
    "    return w"
   ]
  },
  {
   "cell_type": "markdown",
   "metadata": {},
   "source": [
    "### Exercise 5  (1 points)\n",
    "Write a function `hopfield_test(X, w, n_epochs)` which takes the $n$ initial states `X` (shape $(m,n)$) and the learned weights `w` and updates all units in random order for `n_epochs` times (i.e., which \"runs\" your trained Hopfield network for `n_epochs` rounds). The return value should be the updated states of the Hopfield network. Make sure that your iteration fulfills the requirements for Hopfield network convergence."
   ]
  },
  {
   "cell_type": "markdown",
   "metadata": {},
   "source": [
    "### Solution 5"
   ]
  },
  {
   "cell_type": "code",
   "execution_count": 8,
   "metadata": {},
   "outputs": [],
   "source": [
    "# Hopfield testing\n",
    "def hopfield_test(X, w, n_epochs=10):\n",
    "    Y = np.zeros([X.shape[0],X.shape[1]])\n",
    "    # Loop over epochs\n",
    "    ## Code here ##\n",
    "    for epoch in range(n_epochs):\n",
    "        # Loop over examples\n",
    "        ## Code here ##\n",
    "        for i in range(X.shape[1]):\n",
    "            # Loop over nodes\n",
    "            ## Code here ##\n",
    "            for n in (np.random.permutation(X.shape[0])):\n",
    "                # Update node\n",
    "                ## Code here ##\n",
    "                Y[n,i] = -1.0 if np.sum(np.where(X[:,i] == 1, 1, 0) * w[n,:]) < 0.0 else 1.0\n",
    "    return Y"
   ]
  },
  {
   "cell_type": "markdown",
   "metadata": {},
   "source": [
    "### Exercise 6  (1 points)\n",
    "Train your hopfield network on the two *input patterns* in `X` and save the weights. "
   ]
  },
  {
   "cell_type": "markdown",
   "metadata": {},
   "source": [
    "### Solution 6"
   ]
  },
  {
   "cell_type": "code",
   "execution_count": 9,
   "metadata": {},
   "outputs": [],
   "source": [
    "# Run hopfield training\n",
    "w = hopfield_train(X)"
   ]
  },
  {
   "cell_type": "markdown",
   "metadata": {},
   "source": [
    "### Exercise 7 (2 points)\n",
    "\n",
    "Test whether your trained Hopfield net can reconstruct the original images when starting from different degrees of corruption (which means randomly changing the pattern's node states). Make use of the function `corrupt_images` for this. \n",
    "\n",
    "1. Choose 4 degrees of corruption (between min: 10%, max: 100%) you want to test. Corrupt the original input images in `X` accordingly.  \n",
    "1. Run your trained Hopfield network with the corrupted images as input. It may not need to run for long time. \n",
    "1. For both patterns show the original, the corrupted and the reconstructed images next to each other. \n",
    "1. For each of the degrees of corruption, comment on what you see. "
   ]
  },
  {
   "cell_type": "code",
   "execution_count": 10,
   "metadata": {},
   "outputs": [],
   "source": [
    "def corrupt_images(X, percentage=25):\n",
    "    Xhat = X.copy()\n",
    "    n_pixels = int(X.shape[0] * percentage / 100)\n",
    "    for i_example in range(X.shape[1]):\n",
    "        idx = np.random.permutation(X.shape[0])[:n_pixels]\n",
    "        Xhat[idx, i_example] = 2 * np.random.randint(0, 2, n_pixels) - 1\n",
    "    return Xhat"
   ]
  },
  {
   "cell_type": "markdown",
   "metadata": {},
   "source": [
    "### Solution 7"
   ]
  },
  {
   "cell_type": "code",
   "execution_count": 11,
   "metadata": {},
   "outputs": [],
   "source": [
    "def plot_images(X,corX,RecX,percent):\n",
    "    #Hard coded af.... (T_T)\n",
    "    fig, ax = plt.subplots(2, 3, figsize=(15, 10))\n",
    "\n",
    "    ax[0][0].imshow(X[:,0].reshape(sz), cmap=\"gray\")\n",
    "    ax[0][0].set_title(\"original x1\")\n",
    "    ax[0][0].axis(\"off\")\n",
    "    ax[0][1].imshow(corX10[:, 0].reshape(sz), cmap=\"gray\")\n",
    "    ax[0][1].set_title(\"corrupted x1 with {}%\".format(percent))\n",
    "    ax[0][1].axis(\"off\")\n",
    "    ax[0][2].imshow(recX10[:,0].reshape(sz), cmap=\"gray\")\n",
    "    ax[0][2].set_title(\"reconstructed x1 with {}%\".format(percent))\n",
    "    ax[0][2].axis(\"off\")\n",
    "    \n",
    "    ax[1][0].imshow(X[:,1].reshape(sz), cmap=\"gray\")\n",
    "    ax[1][0].set_title(\"original x2\")\n",
    "    ax[1][0].axis(\"off\")\n",
    "    ax[1][1].imshow(corX10[:, 1].reshape(sz), cmap=\"gray\")\n",
    "    ax[1][1].set_title(\"corrupted x2 with {}%\".format(percent))\n",
    "    ax[1][1].axis(\"off\")\n",
    "    ax[1][2].imshow(recX10[:,1].reshape(sz), cmap=\"gray\")\n",
    "    ax[1][2].set_title(\"reconstructed x2 with {}%\".format(percent))\n",
    "    ax[1][2].axis(\"off\")\n",
    "    plt.show()"
   ]
  },
  {
   "cell_type": "code",
   "execution_count": 12,
   "metadata": {},
   "outputs": [
    {
     "data": {
      "image/png": "[encoded data removed]",
      "text/plain": [
       "<Figure size 1080x720 with 6 Axes>"
      ]
     },
     "metadata": {
      "needs_background": "light"
     },
     "output_type": "display_data"
    }
   ],
   "source": [
    "# Corrupt images\n",
    "corX10 = corrupt_images(X,10)\n",
    "\n",
    "# Test associative memory properties\n",
    "recX10 = hopfield_test(corX10,w)\n",
    "\n",
    "# Plot results\n",
    "plot_images(X,corX10,recX10,10)"
   ]
  },
  {
   "cell_type": "markdown",
   "metadata": {},
   "source": [
    "#### 10% \n",
    "At 10% corruption rate it reconstructed it \"flawlessly\". I did not formally check the distance between the 2 images ( _using similarity measure_ ) to confirm the flawless reconstruction but at least my eye can not spot a difference. "
   ]
  },
  {
   "cell_type": "code",
   "execution_count": 13,
   "metadata": {},
   "outputs": [
    {
     "data": {
      "image/png": "[encoded data removed]",
      "text/plain": [
       "<Figure size 1080x720 with 6 Axes>"
      ]
     },
     "metadata": {
      "needs_background": "light"
     },
     "output_type": "display_data"
    }
   ],
   "source": [
    "# Corrupt images\n",
    "## Code here ##\n",
    "corX37 = corrupt_images(X,37)\n",
    "\n",
    "# Test associative memory properties\n",
    "## Code here ##\n",
    "recX37 = hopfield_test(corX37,w)\n",
    "\n",
    "# Plot results\n",
    "## Code here ##\n",
    "plot_images(X,corX37,recX37,37)"
   ]
  },
  {
   "cell_type": "markdown",
   "metadata": {
    "collapsed": true
   },
   "source": [
    "#### 37%\n",
    "It appears that going from 10% to 37% did not affect the overall result as the network again was able to reconstruct the image.  "
   ]
  },
  {
   "cell_type": "code",
   "execution_count": 14,
   "metadata": {},
   "outputs": [
    {
     "data": {
      "image/png": "[encoded data removed]",
      "text/plain": [
       "<Figure size 1080x720 with 6 Axes>"
      ]
     },
     "metadata": {
      "needs_background": "light"
     },
     "output_type": "display_data"
    }
   ],
   "source": [
    "# Corrupt images\n",
    "# Code here\n",
    "corX77 = corrupt_images(X,77)\n",
    "\n",
    "# Test associative memory properties\n",
    "## Code here ##\n",
    "recX77 = hopfield_test(corX77,w)\n",
    "\n",
    "# Plot results\n",
    "## Code here ##\n",
    "plot_images(X,corX77,recX77,77)"
   ]
  },
  {
   "cell_type": "markdown",
   "metadata": {
    "collapsed": true
   },
   "source": [
    "#### 77%\n",
    "Answer yet to come"
   ]
  },
  {
   "cell_type": "code",
   "execution_count": 15,
   "metadata": {},
   "outputs": [
    {
     "data": {
      "image/png": "[encoded data removed]",
      "text/plain": [
       "<Figure size 1080x720 with 6 Axes>"
      ]
     },
     "metadata": {
      "needs_background": "light"
     },
     "output_type": "display_data"
    }
   ],
   "source": [
    "# Corrupt images\n",
    "# Code here\n",
    "corX99 = corrupt_images(X,99)\n",
    "\n",
    "# Test associative memory properties\n",
    "## Code here ##\n",
    "recX99 = hopfield_test(corX99,w)\n",
    "\n",
    "# Plot results\n",
    "## Code here ##\n",
    "plot_images(X,corX99,recX99,99)"
   ]
  },
  {
   "cell_type": "markdown",
   "metadata": {
    "collapsed": true
   },
   "source": [
    "Answer here."
   ]
  },
  {
   "cell_type": "code",
   "execution_count": null,
   "metadata": {},
   "outputs": [],
   "source": []
  }
 ],
 "metadata": {
  "anaconda-cloud": {},
  "kernelspec": {
   "display_name": "Python 3",
   "language": "python",
   "name": "python3"
  },
  "language_info": {
   "codemirror_mode": {
    "name": "ipython",
    "version": 3
   },
   "file_extension": ".py",
   "mimetype": "text/x-python",
   "name": "python",
   "nbconvert_exporter": "python",
   "pygments_lexer": "ipython3",
   "version": "3.7.3"
  }
 },
 "nbformat": 4,
 "nbformat_minor": 1
}
